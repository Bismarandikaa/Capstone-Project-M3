{
 "cells": [
  {
   "attachments": {},
   "cell_type": "markdown",
   "metadata": {},
   "source": [
    "# Capstone Project Module 3 Purwadhika School : Daegu Apartment\n"
   ]
  },
  {
   "cell_type": "markdown",
   "metadata": {},
   "source": [
    "# Context\n",
    "Daegu merupakan kota  terbesar ke - 3 di Korea Selatan setelah Seoul dan Busan. Sebanyak 240.000 apartments di Daegu telah berdiri pada tahun 2021, kebanyakan orang menjual/membeli apartment melalui agen properti. Jumlah properti di Daegu yang belum terjual pada tahun 2021  sebanyak 2000 properti, menjual harga properti dengan nilai yang sesuai dengan pasar menarik perhatian calon pembeli. Banyak  orang yang memilih menggunakan jasa agen properti, pembeli maupun penjual tidak perlu kesusahan dalam transaksi maupun pengurusan surat-surat."
   ]
  },
  {
   "cell_type": "markdown",
   "metadata": {},
   "source": [
    "# Problem Understanding and Goals\n",
    "Masalah pada bisnis ini yaitu sulitnya untuk menentukan harga yang tepat terkait apartment yang berada di daerah Daegu, Korea Selatan. Dengan fasilitas dan fitur-fitur yang ada, dibutuhkan model ML yang tepat untuk menyelesaikan masalah penentuan harga unit apartment. Dengan harapan dapat menghasilkan keuntungan kepada pemilik maupun agen properti dengan menentukan harga yang kompetitif, artinya rata-rata harga yang tidak berbeda jauh antar satu dengan yang lainnya\n",
    "\n",
    "Goals dalam permasalahan ini yaitu untuk dapat menentukan harga  jual unit/properti yang tepat, tentunya agen properti perlu memiliki tools yang dapat memprediksi serta membantu klien dalam hal ini. Perbedaan pada berbagai fitur yang terdapat pada suatu properti seperti tahun dibangun, jarak ke fasilitas publik, lokasi dan tipe apartment dapat meningkatkan keakuratan prediksi harga jual yang mana diharapkan dapat menghasilkan profit bagi pemilik dan juga agen properti."
   ]
  },
  {
   "cell_type": "markdown",
   "metadata": {},
   "source": [
    "# Analytic Approach\n",
    "Kita harus analisa features seperti type of hallway, travel time to subway, facilities in and around the apartment dan tahun dibangun yang mana akan berpengaruh terhadap harga dari unit apartment. Kita bisa mencoba untuk membuat model regresi berdasarkan hasil analisa untuk menentukan harga unit apartment berdasarkan spesifikasi unit apartmentnya."
   ]
  },
  {
   "cell_type": "markdown",
   "metadata": {},
   "source": [
    "# Metric Evaluation\n",
    "Untuk test eror rate dari model yang telah dibuat, kita bisa menggunakan MAE dan MAPE.\n",
    "\n",
    "MAE adalah nilai rata-rata dari absolut error karena karakteristiknya yang tidak terlalu sensitif terhadap outliers, jadi MAE lebih baik dibandingkan dengan MSE.\n",
    "\n",
    "MAPE adalah rata-rata dari residual hasil absolut dalam bentuk persentase, seperti MAE, MAPE mempunyai karakteristik yang tidak terlalu sensitif terhadap outliers karena targetnyanya berisi outlier. Model ini lebih bagus untuk memprediksi harga jual dari suatu unit apartment.\n",
    "\n",
    "Kita juga menggunakan R-Square di dalam model evaluation yang mana R-Square menjelasakan berapa variasi dalam nilai Y yang bisa dijelaskan oleh model, Semakin nilai R-Square mendekati 1, semakin akurat model dalam memprediksi harga jual unit apartment."
   ]
  },
  {
   "cell_type": "markdown",
   "metadata": {},
   "source": [
    "# Data Understanding\n",
    "Features:\n",
    "- Hallway Type: Apartment type\n",
    "- TimeToSubway: Time needed to the nearest subway station\n",
    "- SubwayStation: The name of the nearest subway station\n",
    "- N_FacilitiesNearBy(ETC): The number of facilities nearby\n",
    "- N_FacilitiesNearBy(PublicOffice): The number of public office facilities nearby\n",
    "- N_SchoolNearBy(University): The number of universities nearby\n",
    "- N_Parkinglot(Basement): The number of the parking lot\n",
    "- YearBuilt: The year the apartment was built\n",
    "- N_FacilitiesInApt: Number of facilities in the apartment\n",
    "- Size(sqft): The apartment size (in square feet)\n",
    "- SalePrice: The apartment price (Won)\n"
   ]
  },
  {
   "cell_type": "markdown",
   "metadata": {},
   "source": [
    "# Libraries"
   ]
  },
  {
   "cell_type": "code",
   "execution_count": 56,
   "metadata": {},
   "outputs": [],
   "source": [
    "# Import library\n",
    "import pandas as pd\n",
    "import numpy as np\n",
    "import seaborn as sns\n",
    "import matplotlib.pyplot as plt\n",
    "\n",
    "import warnings\n",
    "warnings.filterwarnings('ignore')\n",
    "\n"
   ]
  },
  {
   "cell_type": "markdown",
   "metadata": {},
   "source": [
    "# Data Overview"
   ]
  },
  {
   "cell_type": "code",
   "execution_count": 2,
   "metadata": {},
   "outputs": [
    {
     "data": {
      "text/html": [
       "<div>\n",
       "<style scoped>\n",
       "    .dataframe tbody tr th:only-of-type {\n",
       "        vertical-align: middle;\n",
       "    }\n",
       "\n",
       "    .dataframe tbody tr th {\n",
       "        vertical-align: top;\n",
       "    }\n",
       "\n",
       "    .dataframe thead th {\n",
       "        text-align: right;\n",
       "    }\n",
       "</style>\n",
       "<table border=\"1\" class=\"dataframe\">\n",
       "  <thead>\n",
       "    <tr style=\"text-align: right;\">\n",
       "      <th></th>\n",
       "      <th>HallwayType</th>\n",
       "      <th>TimeToSubway</th>\n",
       "      <th>SubwayStation</th>\n",
       "      <th>N_FacilitiesNearBy(ETC)</th>\n",
       "      <th>N_FacilitiesNearBy(PublicOffice)</th>\n",
       "      <th>N_SchoolNearBy(University)</th>\n",
       "      <th>N_Parkinglot(Basement)</th>\n",
       "      <th>YearBuilt</th>\n",
       "      <th>N_FacilitiesInApt</th>\n",
       "      <th>Size(sqf)</th>\n",
       "      <th>SalePrice</th>\n",
       "    </tr>\n",
       "  </thead>\n",
       "  <tbody>\n",
       "    <tr>\n",
       "      <th>0</th>\n",
       "      <td>terraced</td>\n",
       "      <td>0-5min</td>\n",
       "      <td>Kyungbuk_uni_hospital</td>\n",
       "      <td>0.0</td>\n",
       "      <td>3.0</td>\n",
       "      <td>2.0</td>\n",
       "      <td>1270.0</td>\n",
       "      <td>2007</td>\n",
       "      <td>10</td>\n",
       "      <td>1387</td>\n",
       "      <td>346017</td>\n",
       "    </tr>\n",
       "    <tr>\n",
       "      <th>1</th>\n",
       "      <td>terraced</td>\n",
       "      <td>10min~15min</td>\n",
       "      <td>Kyungbuk_uni_hospital</td>\n",
       "      <td>1.0</td>\n",
       "      <td>5.0</td>\n",
       "      <td>1.0</td>\n",
       "      <td>0.0</td>\n",
       "      <td>1986</td>\n",
       "      <td>4</td>\n",
       "      <td>914</td>\n",
       "      <td>150442</td>\n",
       "    </tr>\n",
       "    <tr>\n",
       "      <th>2</th>\n",
       "      <td>mixed</td>\n",
       "      <td>15min~20min</td>\n",
       "      <td>Chil-sung-market</td>\n",
       "      <td>1.0</td>\n",
       "      <td>7.0</td>\n",
       "      <td>3.0</td>\n",
       "      <td>56.0</td>\n",
       "      <td>1997</td>\n",
       "      <td>5</td>\n",
       "      <td>558</td>\n",
       "      <td>61946</td>\n",
       "    </tr>\n",
       "    <tr>\n",
       "      <th>3</th>\n",
       "      <td>mixed</td>\n",
       "      <td>5min~10min</td>\n",
       "      <td>Bangoge</td>\n",
       "      <td>5.0</td>\n",
       "      <td>5.0</td>\n",
       "      <td>4.0</td>\n",
       "      <td>798.0</td>\n",
       "      <td>2005</td>\n",
       "      <td>7</td>\n",
       "      <td>914</td>\n",
       "      <td>165486</td>\n",
       "    </tr>\n",
       "    <tr>\n",
       "      <th>4</th>\n",
       "      <td>terraced</td>\n",
       "      <td>0-5min</td>\n",
       "      <td>Sin-nam</td>\n",
       "      <td>0.0</td>\n",
       "      <td>1.0</td>\n",
       "      <td>2.0</td>\n",
       "      <td>536.0</td>\n",
       "      <td>2006</td>\n",
       "      <td>5</td>\n",
       "      <td>1743</td>\n",
       "      <td>311504</td>\n",
       "    </tr>\n",
       "  </tbody>\n",
       "</table>\n",
       "</div>"
      ],
      "text/plain": [
       "  HallwayType TimeToSubway          SubwayStation  N_FacilitiesNearBy(ETC)  \\\n",
       "0    terraced       0-5min  Kyungbuk_uni_hospital                      0.0   \n",
       "1    terraced  10min~15min  Kyungbuk_uni_hospital                      1.0   \n",
       "2       mixed  15min~20min       Chil-sung-market                      1.0   \n",
       "3       mixed   5min~10min                Bangoge                      5.0   \n",
       "4    terraced       0-5min                Sin-nam                      0.0   \n",
       "\n",
       "   N_FacilitiesNearBy(PublicOffice)  N_SchoolNearBy(University)  \\\n",
       "0                               3.0                         2.0   \n",
       "1                               5.0                         1.0   \n",
       "2                               7.0                         3.0   \n",
       "3                               5.0                         4.0   \n",
       "4                               1.0                         2.0   \n",
       "\n",
       "   N_Parkinglot(Basement)  YearBuilt  N_FacilitiesInApt  Size(sqf)  SalePrice  \n",
       "0                  1270.0       2007                 10       1387     346017  \n",
       "1                     0.0       1986                  4        914     150442  \n",
       "2                    56.0       1997                  5        558      61946  \n",
       "3                   798.0       2005                  7        914     165486  \n",
       "4                   536.0       2006                  5       1743     311504  "
      ]
     },
     "execution_count": 2,
     "metadata": {},
     "output_type": "execute_result"
    }
   ],
   "source": [
    "# Loading dataset into pandas dataframe\n",
    "df = pd.read_csv(r'/Users/mbismas/Downloads/data_daegu_apartment.csv')\n",
    "df.head()"
   ]
  },
  {
   "cell_type": "markdown",
   "metadata": {},
   "source": [
    "# Exploratory Data Analysis\n",
    "Karena summation result tidak menghasilkan angka decimal, maka kita bisa lanjut ke proses EDA"
   ]
  },
  {
   "cell_type": "markdown",
   "metadata": {},
   "source": [
    "**Distribusi dari harga apartment Daegu**"
   ]
  },
  {
   "cell_type": "code",
   "execution_count": 3,
   "metadata": {},
   "outputs": [
    {
     "data": {
      "image/png": "[encoded data removed]",
      "text/plain": [
       "<Figure size 640x480 with 1 Axes>"
      ]
     },
     "metadata": {},
     "output_type": "display_data"
    }
   ],
   "source": [
    "# Mengecek outliers pada target\n",
    "sns.boxplot(df['SalePrice'])\n",
    "plt.show()"
   ]
  },
  {
   "cell_type": "markdown",
   "metadata": {},
   "source": [
    "Dari hasil boxplot diatas bisa dilihat bahwa target terdistribusi miring ke kanan"
   ]
  },
  {
   "cell_type": "code",
   "execution_count": 4,
   "metadata": {},
   "outputs": [
    {
     "name": "stdout",
     "output_type": "stream",
     "text": [
      "Jumlah apartment berdasarkan dari stasiun terdekat: \n",
      "Kyungbuk_uni_hospital    1152\n",
      "Myung-duk                1044\n",
      "Banwoldang                529\n",
      "Bangoge                   502\n",
      "Sin-nam                   467\n",
      "no_subway_nearby          290\n",
      "Chil-sung-market           74\n",
      "Daegu                      65\n",
      "Name: SubwayStation, dtype: int64\n",
      "\n",
      "Jumlah apartment berdasarkan dari tipe hallway: \n",
      "terraced    2528\n",
      "mixed       1131\n",
      "corridor     464\n",
      "Name: HallwayType, dtype: int64\n"
     ]
    }
   ],
   "source": [
    "# Mengecek jumlah apartment berdasarkan dari stasiun terdekat dan tipe hallway\n",
    "\n",
    "print(f\"Jumlah apartment berdasarkan dari stasiun terdekat: \\n{df['SubwayStation'].value_counts()}\")\n",
    "print(f\"\\nJumlah apartment berdasarkan dari tipe hallway: \\n{df['HallwayType'].value_counts()}\")"
   ]
  },
  {
   "cell_type": "markdown",
   "metadata": {},
   "source": [
    "Bisa dilihat di atas bahwa kebanyakan apartment berada di dekat stasiun Kyungbuk_uni_hospital dan Myung_duk dan juga tipe hallway yang paling banyak terjual yaitu terrace dan mixed"
   ]
  },
  {
   "cell_type": "code",
   "execution_count": 5,
   "metadata": {},
   "outputs": [
    {
     "data": {
      "text/html": [
       "<div>\n",
       "<style scoped>\n",
       "    .dataframe tbody tr th:only-of-type {\n",
       "        vertical-align: middle;\n",
       "    }\n",
       "\n",
       "    .dataframe tbody tr th {\n",
       "        vertical-align: top;\n",
       "    }\n",
       "\n",
       "    .dataframe thead th {\n",
       "        text-align: right;\n",
       "    }\n",
       "</style>\n",
       "<table border=\"1\" class=\"dataframe\">\n",
       "  <thead>\n",
       "    <tr style=\"text-align: right;\">\n",
       "      <th>HallwayType</th>\n",
       "      <th>corridor</th>\n",
       "      <th>mixed</th>\n",
       "      <th>terraced</th>\n",
       "      <th>All</th>\n",
       "    </tr>\n",
       "    <tr>\n",
       "      <th>SubwayStation</th>\n",
       "      <th></th>\n",
       "      <th></th>\n",
       "      <th></th>\n",
       "      <th></th>\n",
       "    </tr>\n",
       "  </thead>\n",
       "  <tbody>\n",
       "    <tr>\n",
       "      <th>All</th>\n",
       "      <td>464</td>\n",
       "      <td>1131</td>\n",
       "      <td>2528</td>\n",
       "      <td>4123</td>\n",
       "    </tr>\n",
       "    <tr>\n",
       "      <th>Kyungbuk_uni_hospital</th>\n",
       "      <td>49</td>\n",
       "      <td>0</td>\n",
       "      <td>1103</td>\n",
       "      <td>1152</td>\n",
       "    </tr>\n",
       "    <tr>\n",
       "      <th>Myung-duk</th>\n",
       "      <td>222</td>\n",
       "      <td>555</td>\n",
       "      <td>267</td>\n",
       "      <td>1044</td>\n",
       "    </tr>\n",
       "    <tr>\n",
       "      <th>Banwoldang</th>\n",
       "      <td>50</td>\n",
       "      <td>0</td>\n",
       "      <td>479</td>\n",
       "      <td>529</td>\n",
       "    </tr>\n",
       "    <tr>\n",
       "      <th>Bangoge</th>\n",
       "      <td>0</td>\n",
       "      <td>502</td>\n",
       "      <td>0</td>\n",
       "      <td>502</td>\n",
       "    </tr>\n",
       "    <tr>\n",
       "      <th>Sin-nam</th>\n",
       "      <td>51</td>\n",
       "      <td>0</td>\n",
       "      <td>416</td>\n",
       "      <td>467</td>\n",
       "    </tr>\n",
       "    <tr>\n",
       "      <th>no_subway_nearby</th>\n",
       "      <td>41</td>\n",
       "      <td>0</td>\n",
       "      <td>249</td>\n",
       "      <td>290</td>\n",
       "    </tr>\n",
       "    <tr>\n",
       "      <th>Chil-sung-market</th>\n",
       "      <td>0</td>\n",
       "      <td>74</td>\n",
       "      <td>0</td>\n",
       "      <td>74</td>\n",
       "    </tr>\n",
       "    <tr>\n",
       "      <th>Daegu</th>\n",
       "      <td>51</td>\n",
       "      <td>0</td>\n",
       "      <td>14</td>\n",
       "      <td>65</td>\n",
       "    </tr>\n",
       "  </tbody>\n",
       "</table>\n",
       "</div>"
      ],
      "text/plain": [
       "HallwayType            corridor  mixed  terraced   All\n",
       "SubwayStation                                         \n",
       "All                         464   1131      2528  4123\n",
       "Kyungbuk_uni_hospital        49      0      1103  1152\n",
       "Myung-duk                   222    555       267  1044\n",
       "Banwoldang                   50      0       479   529\n",
       "Bangoge                       0    502         0   502\n",
       "Sin-nam                      51      0       416   467\n",
       "no_subway_nearby             41      0       249   290\n",
       "Chil-sung-market              0     74         0    74\n",
       "Daegu                        51      0        14    65"
      ]
     },
     "execution_count": 5,
     "metadata": {},
     "output_type": "execute_result"
    }
   ],
   "source": [
    "# mengecek jumlah apartment pada stasiun terdekat bedasarkan tipe hallway\n",
    "\n",
    "pd.crosstab(df['SubwayStation'],df['HallwayType'], margins=True).sort_values('All',ascending=False)"
   ]
  },
  {
   "cell_type": "markdown",
   "metadata": {},
   "source": [
    "Berdasarkan hasil di atas, dapat dketahui bahwa kebanyakan tipe hallway apartment yang dekat dengan stasiun Kyungbuk_uni_hospital adalah terraced, sedangkan untuk stasium Myung_duk didominasi oleh tipe hallway mixed. Meskipun perbedaannya tidak terlalu signifikan dengan tipe hallway lainnya"
   ]
  },
  {
   "cell_type": "code",
   "execution_count": 6,
   "metadata": {},
   "outputs": [
    {
     "data": {
      "text/html": [
       "<div>\n",
       "<style scoped>\n",
       "    .dataframe tbody tr th:only-of-type {\n",
       "        vertical-align: middle;\n",
       "    }\n",
       "\n",
       "    .dataframe tbody tr th {\n",
       "        vertical-align: top;\n",
       "    }\n",
       "\n",
       "    .dataframe thead th {\n",
       "        text-align: right;\n",
       "    }\n",
       "</style>\n",
       "<table border=\"1\" class=\"dataframe\">\n",
       "  <thead>\n",
       "    <tr style=\"text-align: right;\">\n",
       "      <th>col_0</th>\n",
       "      <th>SalePrice</th>\n",
       "    </tr>\n",
       "    <tr>\n",
       "      <th>SubwayStation</th>\n",
       "      <th></th>\n",
       "    </tr>\n",
       "  </thead>\n",
       "  <tbody>\n",
       "    <tr>\n",
       "      <th>Banwoldang</th>\n",
       "      <td>315929.0</td>\n",
       "    </tr>\n",
       "    <tr>\n",
       "      <th>Sin-nam</th>\n",
       "      <td>247787.0</td>\n",
       "    </tr>\n",
       "    <tr>\n",
       "      <th>Kyungbuk_uni_hospital</th>\n",
       "      <td>238938.0</td>\n",
       "    </tr>\n",
       "    <tr>\n",
       "      <th>no_subway_nearby</th>\n",
       "      <td>207743.0</td>\n",
       "    </tr>\n",
       "    <tr>\n",
       "      <th>Bangoge</th>\n",
       "      <td>167035.0</td>\n",
       "    </tr>\n",
       "    <tr>\n",
       "      <th>Myung-duk</th>\n",
       "      <td>154424.5</td>\n",
       "    </tr>\n",
       "    <tr>\n",
       "      <th>Chil-sung-market</th>\n",
       "      <td>88495.0</td>\n",
       "    </tr>\n",
       "    <tr>\n",
       "      <th>Daegu</th>\n",
       "      <td>86725.0</td>\n",
       "    </tr>\n",
       "  </tbody>\n",
       "</table>\n",
       "</div>"
      ],
      "text/plain": [
       "col_0                  SalePrice\n",
       "SubwayStation                   \n",
       "Banwoldang              315929.0\n",
       "Sin-nam                 247787.0\n",
       "Kyungbuk_uni_hospital   238938.0\n",
       "no_subway_nearby        207743.0\n",
       "Bangoge                 167035.0\n",
       "Myung-duk               154424.5\n",
       "Chil-sung-market         88495.0\n",
       "Daegu                    86725.0"
      ]
     },
     "execution_count": 6,
     "metadata": {},
     "output_type": "execute_result"
    }
   ],
   "source": [
    "# Mengecek nilai tengah harga berdasarkan stasiun terdekat\n",
    "\n",
    "pd.crosstab(index = df['SubwayStation'], columns = 'SalePrice', values=df['SalePrice'],aggfunc='median').sort_values('SalePrice',ascending=False)"
   ]
  },
  {
   "cell_type": "markdown",
   "metadata": {},
   "source": [
    "Dapat dilihat bahwa apartment yang dekat dengan stasiun Kyungbuk_uni_hospital dan Myung_duk mempunyai harga yang tidak rendah namun tidak tinggi juga"
   ]
  },
  {
   "cell_type": "code",
   "execution_count": 7,
   "metadata": {},
   "outputs": [
    {
     "data": {
      "text/plain": [
       "<Axes: xlabel='SubwayStation'>"
      ]
     },
     "execution_count": 7,
     "metadata": {},
     "output_type": "execute_result"
    },
    {
     "data": {
      "image/png": "[encoded data removed]",
      "text/plain": [
       "<Figure size 1200x500 with 1 Axes>"
      ]
     },
     "metadata": {},
     "output_type": "display_data"
    }
   ],
   "source": [
    "price = pd.crosstab(df['SubwayStation'],df['HallwayType'], values=df['SalePrice'],aggfunc='median')\n",
    "price.plot.bar(figsize=(12,5))"
   ]
  },
  {
   "cell_type": "code",
   "execution_count": 8,
   "metadata": {},
   "outputs": [
    {
     "data": {
      "text/html": [
       "<div>\n",
       "<style scoped>\n",
       "    .dataframe tbody tr th:only-of-type {\n",
       "        vertical-align: middle;\n",
       "    }\n",
       "\n",
       "    .dataframe tbody tr th {\n",
       "        vertical-align: top;\n",
       "    }\n",
       "\n",
       "    .dataframe thead th {\n",
       "        text-align: right;\n",
       "    }\n",
       "</style>\n",
       "<table border=\"1\" class=\"dataframe\">\n",
       "  <thead>\n",
       "    <tr style=\"text-align: right;\">\n",
       "      <th>HallwayType</th>\n",
       "      <th>corridor</th>\n",
       "      <th>mixed</th>\n",
       "      <th>terraced</th>\n",
       "    </tr>\n",
       "    <tr>\n",
       "      <th>SubwayStation</th>\n",
       "      <th></th>\n",
       "      <th></th>\n",
       "      <th></th>\n",
       "    </tr>\n",
       "  </thead>\n",
       "  <tbody>\n",
       "    <tr>\n",
       "      <th>Bangoge</th>\n",
       "      <td>NaN</td>\n",
       "      <td>167035.0</td>\n",
       "      <td>NaN</td>\n",
       "    </tr>\n",
       "    <tr>\n",
       "      <th>Banwoldang</th>\n",
       "      <td>101769.0</td>\n",
       "      <td>NaN</td>\n",
       "      <td>337168.0</td>\n",
       "    </tr>\n",
       "    <tr>\n",
       "      <th>Chil-sung-market</th>\n",
       "      <td>NaN</td>\n",
       "      <td>88495.0</td>\n",
       "      <td>NaN</td>\n",
       "    </tr>\n",
       "    <tr>\n",
       "      <th>Daegu</th>\n",
       "      <td>70796.0</td>\n",
       "      <td>NaN</td>\n",
       "      <td>300884.0</td>\n",
       "    </tr>\n",
       "    <tr>\n",
       "      <th>Kyungbuk_uni_hospital</th>\n",
       "      <td>163716.0</td>\n",
       "      <td>NaN</td>\n",
       "      <td>244911.0</td>\n",
       "    </tr>\n",
       "    <tr>\n",
       "      <th>Myung-duk</th>\n",
       "      <td>65486.0</td>\n",
       "      <td>149557.0</td>\n",
       "      <td>271681.0</td>\n",
       "    </tr>\n",
       "    <tr>\n",
       "      <th>Sin-nam</th>\n",
       "      <td>87610.0</td>\n",
       "      <td>NaN</td>\n",
       "      <td>256637.0</td>\n",
       "    </tr>\n",
       "    <tr>\n",
       "      <th>no_subway_nearby</th>\n",
       "      <td>58407.0</td>\n",
       "      <td>NaN</td>\n",
       "      <td>243362.0</td>\n",
       "    </tr>\n",
       "  </tbody>\n",
       "</table>\n",
       "</div>"
      ],
      "text/plain": [
       "HallwayType            corridor     mixed  terraced\n",
       "SubwayStation                                      \n",
       "Bangoge                     NaN  167035.0       NaN\n",
       "Banwoldang             101769.0       NaN  337168.0\n",
       "Chil-sung-market            NaN   88495.0       NaN\n",
       "Daegu                   70796.0       NaN  300884.0\n",
       "Kyungbuk_uni_hospital  163716.0       NaN  244911.0\n",
       "Myung-duk               65486.0  149557.0  271681.0\n",
       "Sin-nam                 87610.0       NaN  256637.0\n",
       "no_subway_nearby        58407.0       NaN  243362.0"
      ]
     },
     "execution_count": 8,
     "metadata": {},
     "output_type": "execute_result"
    }
   ],
   "source": [
    "pd.crosstab(df['SubwayStation'],df['HallwayType'], values=df['SalePrice'],aggfunc='median')"
   ]
  },
  {
   "cell_type": "markdown",
   "metadata": {},
   "source": [
    "Dari chart di atas kita tahu bahwa apartment yang dekat dengan stasiun Kyungbuk_uni_hospital dengan tipe hallway terraced mempunyai nilai tengah harga yang tinggi dibandingkan dengan tipe hallway corridor. Jadi kita bisa berasumsi bahwa tipe terraced memiliki peminat yang lebih banyak dibandingkan dengan tipe corridor\n",
    "\n",
    "Sedangkan untuk apartment yang dekat dengan stasiun Myung_duk dengan tipe terraced juga mempunyai nilai tengah harga yang tinggi dibandingkan dengan tipe hallway lainnya"
   ]
  },
  {
   "cell_type": "markdown",
   "metadata": {},
   "source": [
    "# Data Preprocessing\n",
    "Data processing merupakan tahapan untuk menghilangkan beberapa permasalahan yang bisa mengganggu saat pemrosesan data. Hal tersebut karena banyak data yang formatnya tidak konsisten. Data preprocessing merupakan teknik paling awal sebelum melakukan data mining\n",
    "\n",
    "Selanjutnya kita akan mengecek tipe data, missing value, persentasi dari mssing value, number of unique values dan unique values sample"
   ]
  },
  {
   "cell_type": "code",
   "execution_count": 9,
   "metadata": {},
   "outputs": [
    {
     "data": {
      "text/html": [
       "<div>\n",
       "<style scoped>\n",
       "    .dataframe tbody tr th:only-of-type {\n",
       "        vertical-align: middle;\n",
       "    }\n",
       "\n",
       "    .dataframe tbody tr th {\n",
       "        vertical-align: top;\n",
       "    }\n",
       "\n",
       "    .dataframe thead th {\n",
       "        text-align: right;\n",
       "    }\n",
       "</style>\n",
       "<table border=\"1\" class=\"dataframe\">\n",
       "  <thead>\n",
       "    <tr style=\"text-align: right;\">\n",
       "      <th></th>\n",
       "      <th>Features</th>\n",
       "      <th>DataType</th>\n",
       "      <th>Null</th>\n",
       "      <th>NullPercentage</th>\n",
       "      <th>Unique</th>\n",
       "      <th>Unique Sample</th>\n",
       "    </tr>\n",
       "  </thead>\n",
       "  <tbody>\n",
       "    <tr>\n",
       "      <th>0</th>\n",
       "      <td>HallwayType</td>\n",
       "      <td>object</td>\n",
       "      <td>0</td>\n",
       "      <td>0.0</td>\n",
       "      <td>3</td>\n",
       "      <td>[mixed, corridor]</td>\n",
       "    </tr>\n",
       "    <tr>\n",
       "      <th>1</th>\n",
       "      <td>TimeToSubway</td>\n",
       "      <td>object</td>\n",
       "      <td>0</td>\n",
       "      <td>0.0</td>\n",
       "      <td>5</td>\n",
       "      <td>[15min~20min, 0-5min]</td>\n",
       "    </tr>\n",
       "    <tr>\n",
       "      <th>2</th>\n",
       "      <td>SubwayStation</td>\n",
       "      <td>object</td>\n",
       "      <td>0</td>\n",
       "      <td>0.0</td>\n",
       "      <td>8</td>\n",
       "      <td>[Sin-nam, Bangoge]</td>\n",
       "    </tr>\n",
       "    <tr>\n",
       "      <th>3</th>\n",
       "      <td>N_FacilitiesNearBy(ETC)</td>\n",
       "      <td>float64</td>\n",
       "      <td>0</td>\n",
       "      <td>0.0</td>\n",
       "      <td>4</td>\n",
       "      <td>[5.0, 2.0]</td>\n",
       "    </tr>\n",
       "    <tr>\n",
       "      <th>4</th>\n",
       "      <td>N_FacilitiesNearBy(PublicOffice)</td>\n",
       "      <td>float64</td>\n",
       "      <td>0</td>\n",
       "      <td>0.0</td>\n",
       "      <td>8</td>\n",
       "      <td>[1.0, 7.0]</td>\n",
       "    </tr>\n",
       "    <tr>\n",
       "      <th>5</th>\n",
       "      <td>N_SchoolNearBy(University)</td>\n",
       "      <td>float64</td>\n",
       "      <td>0</td>\n",
       "      <td>0.0</td>\n",
       "      <td>6</td>\n",
       "      <td>[1.0, 2.0]</td>\n",
       "    </tr>\n",
       "    <tr>\n",
       "      <th>6</th>\n",
       "      <td>N_Parkinglot(Basement)</td>\n",
       "      <td>float64</td>\n",
       "      <td>0</td>\n",
       "      <td>0.0</td>\n",
       "      <td>20</td>\n",
       "      <td>[203.0, 798.0]</td>\n",
       "    </tr>\n",
       "    <tr>\n",
       "      <th>7</th>\n",
       "      <td>YearBuilt</td>\n",
       "      <td>int64</td>\n",
       "      <td>0</td>\n",
       "      <td>0.0</td>\n",
       "      <td>16</td>\n",
       "      <td>[2005, 2009]</td>\n",
       "    </tr>\n",
       "    <tr>\n",
       "      <th>8</th>\n",
       "      <td>N_FacilitiesInApt</td>\n",
       "      <td>int64</td>\n",
       "      <td>0</td>\n",
       "      <td>0.0</td>\n",
       "      <td>9</td>\n",
       "      <td>[4, 7]</td>\n",
       "    </tr>\n",
       "    <tr>\n",
       "      <th>9</th>\n",
       "      <td>Size(sqf)</td>\n",
       "      <td>int64</td>\n",
       "      <td>0</td>\n",
       "      <td>0.0</td>\n",
       "      <td>89</td>\n",
       "      <td>[2092, 857]</td>\n",
       "    </tr>\n",
       "    <tr>\n",
       "      <th>10</th>\n",
       "      <td>SalePrice</td>\n",
       "      <td>int64</td>\n",
       "      <td>0</td>\n",
       "      <td>0.0</td>\n",
       "      <td>838</td>\n",
       "      <td>[153982, 158407]</td>\n",
       "    </tr>\n",
       "  </tbody>\n",
       "</table>\n",
       "</div>"
      ],
      "text/plain": [
       "                            Features DataType  Null  NullPercentage  Unique  \\\n",
       "0                        HallwayType   object     0             0.0       3   \n",
       "1                       TimeToSubway   object     0             0.0       5   \n",
       "2                      SubwayStation   object     0             0.0       8   \n",
       "3            N_FacilitiesNearBy(ETC)  float64     0             0.0       4   \n",
       "4   N_FacilitiesNearBy(PublicOffice)  float64     0             0.0       8   \n",
       "5         N_SchoolNearBy(University)  float64     0             0.0       6   \n",
       "6             N_Parkinglot(Basement)  float64     0             0.0      20   \n",
       "7                          YearBuilt    int64     0             0.0      16   \n",
       "8                  N_FacilitiesInApt    int64     0             0.0       9   \n",
       "9                          Size(sqf)    int64     0             0.0      89   \n",
       "10                         SalePrice    int64     0             0.0     838   \n",
       "\n",
       "            Unique Sample  \n",
       "0       [mixed, corridor]  \n",
       "1   [15min~20min, 0-5min]  \n",
       "2      [Sin-nam, Bangoge]  \n",
       "3              [5.0, 2.0]  \n",
       "4              [1.0, 7.0]  \n",
       "5              [1.0, 2.0]  \n",
       "6          [203.0, 798.0]  \n",
       "7            [2005, 2009]  \n",
       "8                  [4, 7]  \n",
       "9             [2092, 857]  \n",
       "10       [153982, 158407]  "
      ]
     },
     "execution_count": 9,
     "metadata": {},
     "output_type": "execute_result"
    }
   ],
   "source": [
    "FeatureCheck = []\n",
    "\n",
    "for i in df.columns:\n",
    "    FeatureCheck.append([\n",
    "        i,\n",
    "        df[i].dtype,\n",
    "        df[i].isna().sum(),\n",
    "        round((df[i].isna().sum() / len(df)) * 100, 2),\n",
    "        df[i].nunique(),\n",
    "        df[i].drop_duplicates().sample(2).values\n",
    "    ])\n",
    "\n",
    "DfFeatureCheck= pd.DataFrame(data = FeatureCheck,\n",
    "columns = [\n",
    "    'Features',\n",
    "    'DataType',\n",
    "    'Null',\n",
    "    'NullPercentage',\n",
    "    'Unique',\n",
    "    'Unique Sample'\n",
    "])\n",
    "\n",
    "DfFeatureCheck"
   ]
  },
  {
   "cell_type": "markdown",
   "metadata": {},
   "source": [
    "**Missing Value**\n",
    "\n",
    "\n"
   ]
  },
  {
   "cell_type": "markdown",
   "metadata": {},
   "source": [
    "Berdasarkan data frame di atas, bisa dilihat bahwa tidak ada missing value"
   ]
  },
  {
   "cell_type": "markdown",
   "metadata": {},
   "source": [
    "**Data Type**\n",
    "\n"
   ]
  },
  {
   "cell_type": "markdown",
   "metadata": {},
   "source": [
    "Hasil dari pengecekan data type di atas menunjukan bahwa atribut N FacilitiesNearBy (ETC), N FacilitiesNearBy (PublicOffice), N SchoolNearBy (University), dan N Parkinglot (Basement) mempunyai tipe data float, seharusnya tipe datanya adalah integer."
   ]
  },
  {
   "cell_type": "code",
   "execution_count": 10,
   "metadata": {},
   "outputs": [
    {
     "name": "stdout",
     "output_type": "stream",
     "text": [
      "N_FacilitiesNearBy(ETC): 7961.0\n",
      "N_FacilitiesNearBy(PublicOffice): 17050.0\n",
      "N_SchoolNearBy(University): 11323.0\n",
      "N_Parkinglot(Basement): 2345901.0\n"
     ]
    }
   ],
   "source": [
    "# Mengecek apakah ada angka decimal dalam atribut\n",
    "\n",
    "print(f\"N_FacilitiesNearBy(ETC): {df['N_FacilitiesNearBy(ETC)'].sum()}\")\n",
    "print(f\"N_FacilitiesNearBy(PublicOffice): {df['N_FacilitiesNearBy(PublicOffice)'].sum()}\")\n",
    "print(f\"N_SchoolNearBy(University): {df['N_SchoolNearBy(University)'].sum()}\")\n",
    "print(f\"N_Parkinglot(Basement): {df['N_Parkinglot(Basement)'].sum()}\")"
   ]
  },
  {
   "cell_type": "markdown",
   "metadata": {},
   "source": [
    "Tidak ada angka decimal dalam atribut maka kita bisa melanjutkan data preprocessing"
   ]
  },
  {
   "cell_type": "markdown",
   "metadata": {},
   "source": [
    "**Duplicate Data**"
   ]
  },
  {
   "cell_type": "code",
   "execution_count": 11,
   "metadata": {},
   "outputs": [
    {
     "data": {
      "text/plain": [
       "1422"
      ]
     },
     "execution_count": 11,
     "metadata": {},
     "output_type": "execute_result"
    }
   ],
   "source": [
    "df.duplicated().sum()"
   ]
  },
  {
   "cell_type": "markdown",
   "metadata": {},
   "source": [
    "Kita akan biarkan data duplikat karena tidak ada feature yang bertindak sebagai primary key"
   ]
  },
  {
   "cell_type": "code",
   "execution_count": 12,
   "metadata": {},
   "outputs": [
    {
     "data": {
      "text/plain": [
       "1422"
      ]
     },
     "execution_count": 12,
     "metadata": {},
     "output_type": "execute_result"
    }
   ],
   "source": [
    "df.duplicated().sum()"
   ]
  },
  {
   "cell_type": "markdown",
   "metadata": {},
   "source": [
    "**Drop Columns**"
   ]
  },
  {
   "cell_type": "markdown",
   "metadata": {},
   "source": [
    "Kita bisa menggunakan domain knowlegde pada feature selection stage saat ini, yang mana semua features saat ini mempunyai hubungan pada target kita yaitu SalePrice. jadi kita tidak menghilangkan features apapun"
   ]
  },
  {
   "cell_type": "markdown",
   "metadata": {},
   "source": [
    "**Descriptive Statistical Numerical Features**"
   ]
  },
  {
   "cell_type": "markdown",
   "metadata": {},
   "source": [
    "Mendeskripsikan semua features untuk melihat apakah ada anomali, contohnya seperti nilai pada feature kurang dari 0 atau SalePrice setara dengan 0"
   ]
  },
  {
   "cell_type": "code",
   "execution_count": 13,
   "metadata": {},
   "outputs": [
    {
     "data": {
      "text/html": [
       "<div>\n",
       "<style scoped>\n",
       "    .dataframe tbody tr th:only-of-type {\n",
       "        vertical-align: middle;\n",
       "    }\n",
       "\n",
       "    .dataframe tbody tr th {\n",
       "        vertical-align: top;\n",
       "    }\n",
       "\n",
       "    .dataframe thead th {\n",
       "        text-align: right;\n",
       "    }\n",
       "</style>\n",
       "<table border=\"1\" class=\"dataframe\">\n",
       "  <thead>\n",
       "    <tr style=\"text-align: right;\">\n",
       "      <th></th>\n",
       "      <th>N_FacilitiesNearBy(ETC)</th>\n",
       "      <th>N_FacilitiesNearBy(PublicOffice)</th>\n",
       "      <th>N_SchoolNearBy(University)</th>\n",
       "      <th>N_Parkinglot(Basement)</th>\n",
       "      <th>YearBuilt</th>\n",
       "      <th>N_FacilitiesInApt</th>\n",
       "      <th>Size(sqf)</th>\n",
       "      <th>SalePrice</th>\n",
       "    </tr>\n",
       "  </thead>\n",
       "  <tbody>\n",
       "    <tr>\n",
       "      <th>count</th>\n",
       "      <td>4123.000000</td>\n",
       "      <td>4123.000000</td>\n",
       "      <td>4123.000000</td>\n",
       "      <td>4123.000000</td>\n",
       "      <td>4123.000000</td>\n",
       "      <td>4123.000000</td>\n",
       "      <td>4123.000000</td>\n",
       "      <td>4123.000000</td>\n",
       "    </tr>\n",
       "    <tr>\n",
       "      <th>mean</th>\n",
       "      <td>1.930876</td>\n",
       "      <td>4.135338</td>\n",
       "      <td>2.746301</td>\n",
       "      <td>568.979141</td>\n",
       "      <td>2002.999757</td>\n",
       "      <td>5.817851</td>\n",
       "      <td>954.630851</td>\n",
       "      <td>221767.926995</td>\n",
       "    </tr>\n",
       "    <tr>\n",
       "      <th>std</th>\n",
       "      <td>2.198832</td>\n",
       "      <td>1.802640</td>\n",
       "      <td>1.496610</td>\n",
       "      <td>410.372742</td>\n",
       "      <td>8.905768</td>\n",
       "      <td>2.340507</td>\n",
       "      <td>383.805648</td>\n",
       "      <td>106739.839945</td>\n",
       "    </tr>\n",
       "    <tr>\n",
       "      <th>min</th>\n",
       "      <td>0.000000</td>\n",
       "      <td>0.000000</td>\n",
       "      <td>0.000000</td>\n",
       "      <td>0.000000</td>\n",
       "      <td>1978.000000</td>\n",
       "      <td>1.000000</td>\n",
       "      <td>135.000000</td>\n",
       "      <td>32743.000000</td>\n",
       "    </tr>\n",
       "    <tr>\n",
       "      <th>25%</th>\n",
       "      <td>0.000000</td>\n",
       "      <td>3.000000</td>\n",
       "      <td>2.000000</td>\n",
       "      <td>184.000000</td>\n",
       "      <td>1993.000000</td>\n",
       "      <td>4.000000</td>\n",
       "      <td>644.000000</td>\n",
       "      <td>144752.000000</td>\n",
       "    </tr>\n",
       "    <tr>\n",
       "      <th>50%</th>\n",
       "      <td>1.000000</td>\n",
       "      <td>5.000000</td>\n",
       "      <td>2.000000</td>\n",
       "      <td>536.000000</td>\n",
       "      <td>2006.000000</td>\n",
       "      <td>5.000000</td>\n",
       "      <td>910.000000</td>\n",
       "      <td>209734.000000</td>\n",
       "    </tr>\n",
       "    <tr>\n",
       "      <th>75%</th>\n",
       "      <td>5.000000</td>\n",
       "      <td>5.000000</td>\n",
       "      <td>4.000000</td>\n",
       "      <td>798.000000</td>\n",
       "      <td>2008.000000</td>\n",
       "      <td>7.000000</td>\n",
       "      <td>1149.000000</td>\n",
       "      <td>291150.000000</td>\n",
       "    </tr>\n",
       "    <tr>\n",
       "      <th>max</th>\n",
       "      <td>5.000000</td>\n",
       "      <td>7.000000</td>\n",
       "      <td>5.000000</td>\n",
       "      <td>1321.000000</td>\n",
       "      <td>2015.000000</td>\n",
       "      <td>10.000000</td>\n",
       "      <td>2337.000000</td>\n",
       "      <td>585840.000000</td>\n",
       "    </tr>\n",
       "  </tbody>\n",
       "</table>\n",
       "</div>"
      ],
      "text/plain": [
       "       N_FacilitiesNearBy(ETC)  N_FacilitiesNearBy(PublicOffice)  \\\n",
       "count              4123.000000                       4123.000000   \n",
       "mean                  1.930876                          4.135338   \n",
       "std                   2.198832                          1.802640   \n",
       "min                   0.000000                          0.000000   \n",
       "25%                   0.000000                          3.000000   \n",
       "50%                   1.000000                          5.000000   \n",
       "75%                   5.000000                          5.000000   \n",
       "max                   5.000000                          7.000000   \n",
       "\n",
       "       N_SchoolNearBy(University)  N_Parkinglot(Basement)    YearBuilt  \\\n",
       "count                 4123.000000             4123.000000  4123.000000   \n",
       "mean                     2.746301              568.979141  2002.999757   \n",
       "std                      1.496610              410.372742     8.905768   \n",
       "min                      0.000000                0.000000  1978.000000   \n",
       "25%                      2.000000              184.000000  1993.000000   \n",
       "50%                      2.000000              536.000000  2006.000000   \n",
       "75%                      4.000000              798.000000  2008.000000   \n",
       "max                      5.000000             1321.000000  2015.000000   \n",
       "\n",
       "       N_FacilitiesInApt    Size(sqf)      SalePrice  \n",
       "count        4123.000000  4123.000000    4123.000000  \n",
       "mean            5.817851   954.630851  221767.926995  \n",
       "std             2.340507   383.805648  106739.839945  \n",
       "min             1.000000   135.000000   32743.000000  \n",
       "25%             4.000000   644.000000  144752.000000  \n",
       "50%             5.000000   910.000000  209734.000000  \n",
       "75%             7.000000  1149.000000  291150.000000  \n",
       "max            10.000000  2337.000000  585840.000000  "
      ]
     },
     "execution_count": 13,
     "metadata": {},
     "output_type": "execute_result"
    }
   ],
   "source": [
    "df.describe()"
   ]
  },
  {
   "cell_type": "markdown",
   "metadata": {},
   "source": [
    "Dapat dilihat bahwa semua features mempunyai nilai asli, jadi kita bisa melanjutkan data preprocessing."
   ]
  },
  {
   "cell_type": "markdown",
   "metadata": {},
   "source": [
    "**Data Correlation**"
   ]
  },
  {
   "cell_type": "markdown",
   "metadata": {},
   "source": [
    "Data Correlation adalah hubungan timbal balik, kovariasi, atau hubungan antara dua variabel atau lebih.\n",
    "Karena target data tidak berdistribusi normal maka kita menggunakan metode **spearman** untuk melihat korelasi antar features."
   ]
  },
  {
   "cell_type": "code",
   "execution_count": 14,
   "metadata": {},
   "outputs": [
    {
     "data": {
      "image/png": "[encoded data removed]",
      "text/plain": [
       "<Figure size 1500x1200 with 2 Axes>"
      ]
     },
     "metadata": {},
     "output_type": "display_data"
    }
   ],
   "source": [
    "plt.figure(figsize=(15,12))\n",
    "sns.heatmap(df.corr('spearman'), annot=True)\n",
    "plt.show()"
   ]
  },
  {
   "cell_type": "markdown",
   "metadata": {},
   "source": [
    "Correlation Matrix menunjukkan bahwa feature yang memiliki korelasi paling tinggi dengan feature SalePrice adalah luas satuan (size (sqf)) yaitu sebesar 0,7 artinya semakin luas unit yang terjual maka harganya akan semakin tinggi dan juga tidak terjadi multikolinearitas antar features. Meskipun beberapa features memiliki korelasi yang rendah dengan feature SalePrice, kita tidak akan menghilangkan feature tersebut karena sedikitnya jumlah semua features dalam data."
   ]
  },
  {
   "cell_type": "markdown",
   "metadata": {},
   "source": [
    "**Outlier**\n"
   ]
  },
  {
   "cell_type": "markdown",
   "metadata": {},
   "source": [
    "Outlier merupakan data yang memiliki karakteristik yang berbeda jauh dari observasi-observasi lainnya dan muncul dalam bentuk nilai ekstrim baik untuk variabel tunggal atau variabel kombinasi."
   ]
  },
  {
   "cell_type": "code",
   "execution_count": 15,
   "metadata": {},
   "outputs": [
    {
     "data": {
      "text/plain": [
       "<Axes: >"
      ]
     },
     "execution_count": 15,
     "metadata": {},
     "output_type": "execute_result"
    },
    {
     "data": {
      "image/png": "[encoded data removed]",
      "text/plain": [
       "<Figure size 2000x1000 with 1 Axes>"
      ]
     },
     "metadata": {},
     "output_type": "display_data"
    }
   ],
   "source": [
    "# Plot untuk mengecek apakah ada outlier\n",
    "\n",
    "plt.figure(figsize=(20,10))\n",
    "sns.boxplot(data=df,orient=\"h\", palette=\"RdBu_r\")"
   ]
  },
  {
   "cell_type": "markdown",
   "metadata": {},
   "source": [
    "Dari hasil boxplot di atas terdapat outlier pada beberapa features seperti pada feature SalePrice dan Size (sqf) kemudian akan dilakukan pengolahan pada setiap feature sehingga terdapat keterbatasan data."
   ]
  },
  {
   "cell_type": "code",
   "execution_count": 16,
   "metadata": {},
   "outputs": [],
   "source": [
    "# Membuat function untuk mengecek outlier\n",
    "\n",
    "def check_outlier(col):\n",
    "    Q1 = df.describe()[col]['25%']\n",
    "    Q3 = df.describe()[col]['75%']\n",
    "    IQR = Q3 - Q1\n",
    "    upper_fence = Q3 + (1.5 * IQR)\n",
    "    lower_fence = Q1 - (1.5 * IQR)\n",
    "    return IQR,upper_fence, lower_fence"
   ]
  },
  {
   "cell_type": "markdown",
   "metadata": {},
   "source": [
    "**SalePrice**"
   ]
  },
  {
   "cell_type": "code",
   "execution_count": 17,
   "metadata": {},
   "outputs": [
    {
     "data": {
      "image/png": "[encoded data removed]",
      "text/plain": [
       "<Figure size 640x480 with 1 Axes>"
      ]
     },
     "metadata": {},
     "output_type": "display_data"
    }
   ],
   "source": [
    "# Plot distribusi data pada feature SalePrice \n",
    "\n",
    "sns.boxplot(df['SalePrice'])\n",
    "plt.show()"
   ]
  },
  {
   "cell_type": "code",
   "execution_count": 18,
   "metadata": {},
   "outputs": [
    {
     "name": "stdout",
     "output_type": "stream",
     "text": [
      "IQR SalePrice\n",
      "IQR\t\t:  146398.0\n",
      "Upper Fence\t:  510747.0\n",
      "lower_fence\t:  -74845.0\n"
     ]
    }
   ],
   "source": [
    "# Outlier pada SalePrice feature\n",
    "\n",
    "IQR, upper_fence, lower_fence = check_outlier('SalePrice')\n",
    "print(\"IQR SalePrice\")\n",
    "print('IQR\\t\\t: ',IQR)\n",
    "print('Upper Fence\\t: ',upper_fence)\n",
    "print('lower_fence\\t: ',lower_fence)"
   ]
  },
  {
   "cell_type": "code",
   "execution_count": 19,
   "metadata": {},
   "outputs": [
    {
     "data": {
      "text/plain": [
       "count      4123.000000\n",
       "mean     221767.926995\n",
       "std      106739.839945\n",
       "min       32743.000000\n",
       "25%      144752.000000\n",
       "50%      209734.000000\n",
       "75%      291150.000000\n",
       "max      585840.000000\n",
       "Name: SalePrice, dtype: float64"
      ]
     },
     "execution_count": 19,
     "metadata": {},
     "output_type": "execute_result"
    }
   ],
   "source": [
    "# Mengecek descriptive statistics pada SalePrice feature\n",
    "\n",
    "df['SalePrice'].describe()"
   ]
  },
  {
   "cell_type": "code",
   "execution_count": 20,
   "metadata": {},
   "outputs": [
    {
     "name": "stdout",
     "output_type": "stream",
     "text": [
      "SalePrice amount > 510747\t\t:  27\n",
      "Percentage of salePrice amount > 510747\t:  0.655 %\n"
     ]
    }
   ],
   "source": [
    "# Cek SalePrice > 510747.0\n",
    "\n",
    "print(\"SalePrice amount > 510747\\t\\t: \",df[df['SalePrice'] > 510747.0].count()['SalePrice'])\n",
    "print(\"Percentage of salePrice amount > 510747\\t: \",round((df[df['SalePrice'] > 510747.0].count()['SalePrice'])/4123*100,3),\"%\")"
   ]
  },
  {
   "cell_type": "markdown",
   "metadata": {},
   "source": [
    "Menurut descriptive statistics, kuartil ketiga pada fitur SalePrice bernilai kurang dari $291150, sedangkan nilai maksimumnya sangat besar, yaitu $585840.\n",
    "\n",
    "Akibatnya data tidak terdistribusi normal sehingga menimbulkan skewness positif. Ada 27 data dalam data kami yang nilai harga jualnya lebih besar dari $291150, atau hanya 0,655% dari data tersebut. Kami akan membuang datanya sehingga skewness dapat dikurangi, yang mengakibatkan model limitiations."
   ]
  },
  {
   "cell_type": "code",
   "execution_count": 21,
   "metadata": {},
   "outputs": [],
   "source": [
    "# Filtering data\n",
    "\n",
    "df = df[df['SalePrice'] <= 510747]"
   ]
  },
  {
   "cell_type": "code",
   "execution_count": 22,
   "metadata": {},
   "outputs": [
    {
     "data": {
      "image/png": "[encoded data removed]",
      "text/plain": [
       "<Figure size 640x480 with 1 Axes>"
      ]
     },
     "metadata": {},
     "output_type": "display_data"
    }
   ],
   "source": [
    "# Distribusi data setelah filtering\n",
    "\n",
    "sns.histplot(data=df, x=\"SalePrice\")\n",
    "plt.show()"
   ]
  },
  {
   "cell_type": "markdown",
   "metadata": {},
   "source": [
    "Kemiringan distribusi data telah berkurang seperti yang terlihat pada plot di atas."
   ]
  },
  {
   "cell_type": "code",
   "execution_count": 23,
   "metadata": {},
   "outputs": [
    {
     "data": {
      "text/plain": [
       "count      4096.000000\n",
       "mean     219692.548828\n",
       "std      103961.039574\n",
       "min       32743.000000\n",
       "25%      144752.000000\n",
       "50%      207964.000000\n",
       "75%      287610.000000\n",
       "max      508849.000000\n",
       "Name: SalePrice, dtype: float64"
      ]
     },
     "execution_count": 23,
     "metadata": {},
     "output_type": "execute_result"
    }
   ],
   "source": [
    "# Mengecek descriptive statistics pada SalePrice feature setelah filtering\n",
    "\n",
    "df['SalePrice'].describe()"
   ]
  },
  {
   "cell_type": "markdown",
   "metadata": {},
   "source": [
    "**Size(sqf)**"
   ]
  },
  {
   "cell_type": "code",
   "execution_count": 24,
   "metadata": {},
   "outputs": [
    {
     "data": {
      "image/png": "[encoded data removed]",
      "text/plain": [
       "<Figure size 640x480 with 1 Axes>"
      ]
     },
     "metadata": {},
     "output_type": "display_data"
    }
   ],
   "source": [
    "# Plot distribusi data pada size(sqf) feature\n",
    "\n",
    "sns.boxplot(df['Size(sqf)'])\n",
    "plt.show()"
   ]
  },
  {
   "cell_type": "code",
   "execution_count": 25,
   "metadata": {},
   "outputs": [
    {
     "name": "stdout",
     "output_type": "stream",
     "text": [
      "IQR Size(sqf)\n",
      "IQR\t\t:  487.0\n",
      "Upper Fence\t:  1861.5\n",
      "lower_fence\t:  -86.5\n"
     ]
    }
   ],
   "source": [
    "# Outlier pada Size(sqf) feature\n",
    "\n",
    "IQR, upper_fence, lower_fence = check_outlier('Size(sqf)')\n",
    "print(\"IQR Size(sqf)\")\n",
    "print('IQR\\t\\t: ',IQR)\n",
    "print('Upper Fence\\t: ',upper_fence)\n",
    "print('lower_fence\\t: ',lower_fence)"
   ]
  },
  {
   "cell_type": "code",
   "execution_count": 26,
   "metadata": {},
   "outputs": [
    {
     "data": {
      "text/plain": [
       "count    4096.000000\n",
       "mean      949.107178\n",
       "std       378.608713\n",
       "min       135.000000\n",
       "25%       644.000000\n",
       "50%       910.000000\n",
       "75%      1131.000000\n",
       "max      2337.000000\n",
       "Name: Size(sqf), dtype: float64"
      ]
     },
     "execution_count": 26,
     "metadata": {},
     "output_type": "execute_result"
    }
   ],
   "source": [
    "# Mengecek descriptive statistics pada the Size(sqf) feature\n",
    "\n",
    "df['Size(sqf)'].describe()"
   ]
  },
  {
   "cell_type": "code",
   "execution_count": 27,
   "metadata": {},
   "outputs": [
    {
     "name": "stdout",
     "output_type": "stream",
     "text": [
      "Size(sqf) amount > 1861.5\t\t:  81\n",
      "Percentage of Size(sqf) amount > 1861.5\t:  1.965 %\n"
     ]
    }
   ],
   "source": [
    "# Cek Size(sqf) > 1861.5\n",
    "\n",
    "print(\"Size(sqf) amount > 1861.5\\t\\t: \",df[df['Size(sqf)'] > 1861.5].count()['Size(sqf)'])\n",
    "print(\"Percentage of Size(sqf) amount > 1861.5\\t: \",round((df[df['Size(sqf)'] > 1861.5].count()['Size(sqf)'])/4123*100,3),\"%\")\n"
   ]
  },
  {
   "cell_type": "markdown",
   "metadata": {},
   "source": [
    "Dari boxplot di atas terlihat jelas terdapat outlier, karena persentase outlier sangat kecil yaitu hanya 1.965% maka kita akan membuang semua data yang mempunyai  Size(sqf) lebih besar dari 1861.5."
   ]
  },
  {
   "cell_type": "code",
   "execution_count": 28,
   "metadata": {},
   "outputs": [],
   "source": [
    "# Filtering data\n",
    "\n",
    "df = df[df['Size(sqf)'] <= 1861.5]"
   ]
  },
  {
   "cell_type": "code",
   "execution_count": 29,
   "metadata": {},
   "outputs": [
    {
     "data": {
      "image/png": "[encoded data removed]",
      "text/plain": [
       "<Figure size 640x480 with 1 Axes>"
      ]
     },
     "metadata": {},
     "output_type": "display_data"
    }
   ],
   "source": [
    "# Distribusi data setelah filtering\n",
    "\n",
    "sns.histplot(data=df, x=\"Size(sqf)\")\n",
    "plt.show()"
   ]
  },
  {
   "cell_type": "markdown",
   "metadata": {},
   "source": [
    "Kemiringan distribusi data telah berkurang seperti terlihat pada plot di atas."
   ]
  },
  {
   "cell_type": "code",
   "execution_count": 30,
   "metadata": {},
   "outputs": [
    {
     "data": {
      "text/plain": [
       "count    4015.000000\n",
       "mean      925.216936\n",
       "std       341.828592\n",
       "min       135.000000\n",
       "25%       644.000000\n",
       "50%       910.000000\n",
       "75%      1131.000000\n",
       "max      1796.000000\n",
       "Name: Size(sqf), dtype: float64"
      ]
     },
     "execution_count": 30,
     "metadata": {},
     "output_type": "execute_result"
    }
   ],
   "source": [
    "# Mengecek descriptive statistics pada Size(sqf) feature setelah filtering\n",
    "\n",
    "df['Size(sqf)'].describe()"
   ]
  },
  {
   "cell_type": "code",
   "execution_count": 31,
   "metadata": {},
   "outputs": [
    {
     "name": "stdout",
     "output_type": "stream",
     "text": [
      "<class 'pandas.core.frame.DataFrame'>\n",
      "Int64Index: 4015 entries, 0 to 4122\n",
      "Data columns (total 11 columns):\n",
      " #   Column                            Non-Null Count  Dtype  \n",
      "---  ------                            --------------  -----  \n",
      " 0   HallwayType                       4015 non-null   object \n",
      " 1   TimeToSubway                      4015 non-null   object \n",
      " 2   SubwayStation                     4015 non-null   object \n",
      " 3   N_FacilitiesNearBy(ETC)           4015 non-null   float64\n",
      " 4   N_FacilitiesNearBy(PublicOffice)  4015 non-null   float64\n",
      " 5   N_SchoolNearBy(University)        4015 non-null   float64\n",
      " 6   N_Parkinglot(Basement)            4015 non-null   float64\n",
      " 7   YearBuilt                         4015 non-null   int64  \n",
      " 8   N_FacilitiesInApt                 4015 non-null   int64  \n",
      " 9   Size(sqf)                         4015 non-null   int64  \n",
      " 10  SalePrice                         4015 non-null   int64  \n",
      "dtypes: float64(4), int64(4), object(3)\n",
      "memory usage: 376.4+ KB\n"
     ]
    }
   ],
   "source": [
    "# Mengecek dataset feature info dari hasil celansing\n",
    "\n",
    "df.info()"
   ]
  },
  {
   "cell_type": "markdown",
   "metadata": {},
   "source": [
    "Jumlah data yang dibuang sebanyak 108 data atau 2,62% dari total data."
   ]
  },
  {
   "cell_type": "markdown",
   "metadata": {},
   "source": [
    "# Modeling\n"
   ]
  },
  {
   "cell_type": "code",
   "execution_count": 32,
   "metadata": {},
   "outputs": [],
   "source": [
    "# Import library\n",
    "\n",
    "from sklearn.model_selection import train_test_split, cross_val_score, RandomizedSearchCV, GridSearchCV, KFold\n",
    "\n",
    "import category_encoders as ce\n",
    "from sklearn.compose import ColumnTransformer\n",
    "from sklearn.pipeline import Pipeline\n",
    "\n",
    "from sklearn.linear_model import LinearRegression\n",
    "from sklearn.neighbors import KNeighborsRegressor\n",
    "from sklearn.tree import DecisionTreeRegressor\n",
    "from sklearn.ensemble import RandomForestRegressor\n",
    "from xgboost.sklearn import XGBRegressor\n",
    "from sklearn.compose import TransformedTargetRegressor\n",
    "\n",
    "from sklearn.preprocessing import StandardScaler,PolynomialFeatures, PowerTransformer, OneHotEncoder\n",
    "from sklearn.metrics import r2_score, mean_absolute_error, mean_absolute_percentage_error"
   ]
  },
  {
   "cell_type": "markdown",
   "metadata": {},
   "source": [
    "**Memisahkan Independent Variable Data dari Target**"
   ]
  },
  {
   "cell_type": "code",
   "execution_count": 33,
   "metadata": {},
   "outputs": [],
   "source": [
    "## Memisahkan Independent Variable Data dari Target\n",
    "X = df.drop(columns=['SalePrice'])\n",
    "y = df['SalePrice']"
   ]
  },
  {
   "cell_type": "markdown",
   "metadata": {},
   "source": [
    "**Data Splitting**"
   ]
  },
  {
   "cell_type": "code",
   "execution_count": 34,
   "metadata": {},
   "outputs": [],
   "source": [
    "# Splitting training dan test data menggunakan proportion of 80:20\n",
    "\n",
    "X_train, X_test, y_train, y_test= train_test_split(\n",
    "    X,\n",
    "    y,  \n",
    "    test_size=0.20,\n",
    "    random_state=99)"
   ]
  },
  {
   "cell_type": "markdown",
   "metadata": {},
   "source": [
    "**Memilih 2 best model terbaik melalui cross validation**"
   ]
  },
  {
   "cell_type": "markdown",
   "metadata": {},
   "source": [
    "Cross Validation adalah teknik yang membantu memastikan model kita yakin akan efisiensi dan keakuratannya pada data yang tidak terlihat. Ini adalah metode untuk mengevaluasi model Machine Learning dengan melatih beberapa model Machine Learning lainnya pada subkumpulan kumpulan data masukan yang tersedia dan mengevaluasinya pada subkumpulan kumpulan data."
   ]
  },
  {
   "cell_type": "markdown",
   "metadata": {},
   "source": [
    "**Membuat Machine Learning Pipeline**"
   ]
  },
  {
   "cell_type": "markdown",
   "metadata": {},
   "source": [
    "Machine Learning Pipeline digunakan untuk membantu mengotomatiskan alur kerja pembelajaran mesin. Mereka beroperasi dengan memungkinkan serangkaian data diubah dan dikorelasikan bersama dalam suatu model yang dapat diuji dan dievaluasi untuk mencapai suatu hasil. Dengan menggunakan pipeline kita juga dapat menghindari kebocoran data, yaitu suatu kondisi dimana model mengetahui kondisi data uji tersebut dapat karena imputasi atau pada saat melakukan fit. Sehingga harus dihindari agar nilai kumpulan tes Matriks evaluasi lebih valid dan dapat dipercaya.\n"
   ]
  },
  {
   "cell_type": "markdown",
   "metadata": {},
   "source": [
    "Selanjutnya, kita akan mengelompokkan features berdasarkan tipe data, dengan daftar 'num_columns' berisi feature tipe **numerik** dan daftar 'cat_columns_OHE' dan 'cat_columns_Ordinal' berisi data tipe **kategorikal**. Tujuan pengelompokan adalah untuk mengaktifkan rekayasa feature berdasarkan jenis feature."
   ]
  },
  {
   "cell_type": "code",
   "execution_count": 35,
   "metadata": {},
   "outputs": [],
   "source": [
    "# Grouping features by data type\n",
    "\n",
    "num_columns = ['N_FacilitiesNearBy(ETC)','N_FacilitiesNearBy(PublicOffice)','N_SchoolNearBy(University)','N_Parkinglot(Basement)','YearBuilt','N_FacilitiesInApt','Size(sqf)' ]\n",
    "cat_columns_OHE = ['HallwayType','SubwayStation']\n",
    "cat_columns_Ordinal = ['TimeToSubway']"
   ]
  },
  {
   "cell_type": "markdown",
   "metadata": {},
   "source": [
    "Lalu buat Cross Validaiton menggunakan Machine Learning Pipeline"
   ]
  },
  {
   "cell_type": "code",
   "execution_count": 36,
   "metadata": {},
   "outputs": [],
   "source": [
    "## Feature Engineering\n",
    "# Feature Engineering on numeric Features\n",
    "num_pipeline = Pipeline([\n",
    "    ('Scaler',StandardScaler()),\n",
    "    ('Power',PowerTransformer(method='yeo-johnson'))\n",
    "])\n",
    "# Encode Categoric Features using One Hot Encoding\n",
    "cat_pipeline_OHE = Pipeline([\n",
    "    ('One Hot', OneHotEncoder(drop='first', handle_unknown='ignore'))\n",
    "])\n",
    "# Encode Categoric Feature using Ordinal Encoder\n",
    "cat_pipeline_Ordinal = Pipeline([\n",
    "    ('Ordinal', ce.OrdinalEncoder(mapping = [{\n",
    "                                    'col': 'TimeToSubway', \n",
    "                                    'mapping': {'no_bus_stop_nearby': 0, \n",
    "                                                '15min~20min': 1, \n",
    "                                                '10min~15min': 2, \n",
    "                                                '5min~10min': 3,\n",
    "                                                '0-5min':4}}\n",
    "                                         ]))\n",
    "])\n",
    "\n",
    "## Transform a set of columns\n",
    "preprocessor = ColumnTransformer([\n",
    "    ('numeric', num_pipeline, num_columns),\n",
    "    ('categoric_OHE', cat_pipeline_OHE, cat_columns_OHE),\n",
    "    ('categoric_Ordinal',cat_pipeline_Ordinal, cat_columns_Ordinal)\n",
    "])\n",
    "\n",
    "## Define a set of algorithms to be tested\n",
    "models = [LinearRegression(), KNeighborsRegressor(), DecisionTreeRegressor(random_state=99), RandomForestRegressor(random_state=99), XGBRegressor(random_state=99)]\n",
    "\n",
    "## List declaration for storing r2, MAE, MAPE values\n",
    "r2_mean = []\n",
    "r2_std = []\n",
    "\n",
    "MAE_mean = []\n",
    "MAE_std = []\n",
    "\n",
    "MAPE_mean = []\n",
    "MAPE_std = []\n",
    "\n",
    "## Iterations to test the model\n",
    "for model in models:\n",
    "    kf = KFold(n_splits=5)\n",
    "\n",
    "    estimator = Pipeline([\n",
    "        ('prep', preprocessor),\n",
    "        ('algo', model)\n",
    "    ])\n",
    "\n",
    "    # R2 Score\n",
    "    cv_r2 = cross_val_score(\n",
    "        estimator, \n",
    "        X_train, \n",
    "        y_train, \n",
    "        cv=kf, \n",
    "        scoring='r2', \n",
    "        )\n",
    "\n",
    "    r2_mean.append(cv_r2.mean())\n",
    "    r2_std.append(cv_r2.std())\n",
    "\n",
    "    # MAE\n",
    "    cv_MAE = cross_val_score(\n",
    "        estimator,\n",
    "        X_train,\n",
    "        y_train,\n",
    "        cv = kf,\n",
    "        scoring = 'neg_mean_absolute_error'\n",
    "    )\n",
    "\n",
    "    MAE_mean.append(cv_MAE.mean())\n",
    "    MAE_std.append(cv_MAE.std())\n",
    "\n",
    "    # MAPE\n",
    "    cv_MAPE = cross_val_score(\n",
    "        estimator,\n",
    "        X_train,\n",
    "        y_train,\n",
    "        cv=kf,\n",
    "        scoring='neg_mean_absolute_percentage_error'\n",
    "    )\n",
    "\n",
    "    MAPE_mean.append(cv_MAPE.mean())\n",
    "    MAPE_std.append(cv_MAPE.std())"
   ]
  },
  {
   "cell_type": "markdown",
   "metadata": {},
   "source": [
    "**Feature Engineering**\n"
   ]
  },
  {
   "cell_type": "markdown",
   "metadata": {},
   "source": [
    "Feature Engineering adalah proses mengekstraksi feature dari kumpulan data dan membantu model prediktif dalam merepresentasikan masalah mendasar dengan lebih baik, sehingga meningkatkan akurasi model dalam memprediksi data.\n",
    "\n",
    "1. Numeric\n",
    "- Feature Scaling \n",
    "- Standard Scaler\n",
    "- Power Transform (Yeo-Johnson)\n",
    "\n",
    "2. Categoric\n",
    "- Ordinal Encoding\n",
    "- One Hot Encoding"
   ]
  },
  {
   "cell_type": "markdown",
   "metadata": {},
   "source": [
    "**Evaluation Matrix**"
   ]
  },
  {
   "cell_type": "code",
   "execution_count": 37,
   "metadata": {},
   "outputs": [],
   "source": [
    "# Hasil evaluasi dari 5 base model menggunakan polynomial features\n",
    "\n",
    "eva_matrix_base = pd.DataFrame({\n",
    "    'Model': ['Linear Regression', 'KNN Regressor', 'DecisionTree Regressor', 'RandomForest Regressor', 'XGBoost Regressor'],\n",
    "    'R2_Mean' : r2_mean,\n",
    "    'R2_Std' : r2_std,\n",
    "    'MAE_Mean': MAE_mean,\n",
    "    'MAE_Std': MAE_std,\n",
    "    'MAPE_Mean': MAPE_mean,\n",
    "    'MAPE_Std': MAPE_std\n",
    "})"
   ]
  },
  {
   "cell_type": "code",
   "execution_count": 38,
   "metadata": {},
   "outputs": [
    {
     "data": {
      "text/html": [
       "<div>\n",
       "<style scoped>\n",
       "    .dataframe tbody tr th:only-of-type {\n",
       "        vertical-align: middle;\n",
       "    }\n",
       "\n",
       "    .dataframe tbody tr th {\n",
       "        vertical-align: top;\n",
       "    }\n",
       "\n",
       "    .dataframe thead th {\n",
       "        text-align: right;\n",
       "    }\n",
       "</style>\n",
       "<table border=\"1\" class=\"dataframe\">\n",
       "  <thead>\n",
       "    <tr style=\"text-align: right;\">\n",
       "      <th></th>\n",
       "      <th>Model</th>\n",
       "      <th>R2_Mean</th>\n",
       "      <th>R2_Std</th>\n",
       "      <th>MAE_Mean</th>\n",
       "      <th>MAE_Std</th>\n",
       "      <th>MAPE_Mean</th>\n",
       "      <th>MAPE_Std</th>\n",
       "    </tr>\n",
       "  </thead>\n",
       "  <tbody>\n",
       "    <tr>\n",
       "      <th>4</th>\n",
       "      <td>XGBoost Regressor</td>\n",
       "      <td>0.831796</td>\n",
       "      <td>0.010871</td>\n",
       "      <td>-33393.799687</td>\n",
       "      <td>822.151260</td>\n",
       "      <td>-0.183476</td>\n",
       "      <td>0.004540</td>\n",
       "    </tr>\n",
       "    <tr>\n",
       "      <th>2</th>\n",
       "      <td>DecisionTree Regressor</td>\n",
       "      <td>0.831795</td>\n",
       "      <td>0.010886</td>\n",
       "      <td>-33397.562519</td>\n",
       "      <td>835.463923</td>\n",
       "      <td>-0.183464</td>\n",
       "      <td>0.004556</td>\n",
       "    </tr>\n",
       "    <tr>\n",
       "      <th>3</th>\n",
       "      <td>RandomForest Regressor</td>\n",
       "      <td>0.831490</td>\n",
       "      <td>0.010869</td>\n",
       "      <td>-33406.759031</td>\n",
       "      <td>835.620650</td>\n",
       "      <td>-0.183788</td>\n",
       "      <td>0.004982</td>\n",
       "    </tr>\n",
       "    <tr>\n",
       "      <th>0</th>\n",
       "      <td>Linear Regression</td>\n",
       "      <td>0.776933</td>\n",
       "      <td>0.020802</td>\n",
       "      <td>-39835.628482</td>\n",
       "      <td>1836.247058</td>\n",
       "      <td>-0.222828</td>\n",
       "      <td>0.006551</td>\n",
       "    </tr>\n",
       "    <tr>\n",
       "      <th>1</th>\n",
       "      <td>KNN Regressor</td>\n",
       "      <td>NaN</td>\n",
       "      <td>NaN</td>\n",
       "      <td>NaN</td>\n",
       "      <td>NaN</td>\n",
       "      <td>NaN</td>\n",
       "      <td>NaN</td>\n",
       "    </tr>\n",
       "  </tbody>\n",
       "</table>\n",
       "</div>"
      ],
      "text/plain": [
       "                    Model   R2_Mean    R2_Std      MAE_Mean      MAE_Std  \\\n",
       "4       XGBoost Regressor  0.831796  0.010871 -33393.799687   822.151260   \n",
       "2  DecisionTree Regressor  0.831795  0.010886 -33397.562519   835.463923   \n",
       "3  RandomForest Regressor  0.831490  0.010869 -33406.759031   835.620650   \n",
       "0       Linear Regression  0.776933  0.020802 -39835.628482  1836.247058   \n",
       "1           KNN Regressor       NaN       NaN           NaN          NaN   \n",
       "\n",
       "   MAPE_Mean  MAPE_Std  \n",
       "4  -0.183476  0.004540  \n",
       "2  -0.183464  0.004556  \n",
       "3  -0.183788  0.004982  \n",
       "0  -0.222828  0.006551  \n",
       "1        NaN       NaN  "
      ]
     },
     "execution_count": 38,
     "metadata": {},
     "output_type": "execute_result"
    }
   ],
   "source": [
    "# Mengurutkan evaluation matrix berdasarkan r2 mean\n",
    "\n",
    "eva_matrix_base.sort_values('R2_Mean',ascending=False)"
   ]
  },
  {
   "cell_type": "markdown",
   "metadata": {},
   "source": [
    "Algoritma yang paling stabil adalah Decision Tree Regressor dan XGBoost Regressor, selanjutnya kita akan melakukan tuning pada hyperparameter untuk mendapatkan hasil terbaik dari model."
   ]
  },
  {
   "cell_type": "markdown",
   "metadata": {},
   "source": [
    "**Hyperparameter Tunning**"
   ]
  },
  {
   "cell_type": "markdown",
   "metadata": {},
   "source": [
    "Hyperparameter adalah parameter yang terdapat dalam Machine Learning, dan kita akan melakukan proses penyetelan pada parameter tersebut dengan mencoba beberapa nilai parameter yang masuk akal dari algoritme untuk mendapatkan hasil terbaik dari model."
   ]
  },
  {
   "cell_type": "markdown",
   "metadata": {},
   "source": [
    "**XGBoost Algorithm**"
   ]
  },
  {
   "cell_type": "markdown",
   "metadata": {},
   "source": [
    "Selanjutnya, kita akan melakukan tuning hyperparameter pada algoritma XGBoost"
   ]
  },
  {
   "cell_type": "code",
   "execution_count": 39,
   "metadata": {},
   "outputs": [],
   "source": [
    "# defines xgboost parameter\n",
    "param_XGB = {\n",
    "    \"algo__n_estimators\" : [100, 150],\n",
    "    \"algo__max_depth\" : [1, 2, 3],\n",
    "    \"algo__learning_rate\" : np.logspace(-3, 0, 4),\n",
    "    \"algo__gamma\" : np.logspace(-3, 2, 6),\n",
    "    \"algo__colsample_bytree\" : [.3, .5, .7],\n",
    "    \"algo__subsample\" : [.3, .5, .7],\n",
    "    \"algo__reg_alpha\" : np.logspace(-3, 3, 7), \n",
    "    \"algo__reg_lambda\" : np.logspace(-3, 3, 7)\n",
    "\n",
    "}"
   ]
  },
  {
   "cell_type": "markdown",
   "metadata": {},
   "source": [
    "**Hyperparameter di XGBoost**\n",
    "\n",
    "- n_estimators = Jumlah trees.\n",
    "- max_dept = Kedalaman maksimum suatu tree, namun semakin dalam tree maka modelnya akan semakin kompleks dan menyebabkan overfit, nilai maksimum yang digunakan biasanya 6.\n",
    "- learning_rate = Nilai ini mengurangi bobot fitur baru di setiap langkah peningkatan, mencegah overfitting atau minimum lokal. Angka ini harus antara 0 dan 1.\n",
    "- gamma = Istilah regularisasi yang berhubungan dengan kompleksitas model. Ini adalah jumlah kerugian terkecil yang diperlukan agar daun terbelah.\n",
    "- colsample_bytree = Fraksi kolom yang akan dijadikan subsampel. Hal ini terkait dengan kecepatan algoritma dan pencegahan overfitting.\n",
    "- subsample = Rasio subsampel instance pelatihan. Jika disetel ke 0,5, XGBoost akan mengambil sampel secara acak setengah dari data pelatihan sebelum menanam pohon. Ini akan membantu menghindari overfitting.\n",
    "- reg_lambda = Pada bobot, ada istilah regularisasi L2. Dengan meningkatkan nilai ini, model menjadi lebih konservatif.\n",
    "- reg_alpha = Regularisasi L1 pada bobot. Seperti lambda, dengan meningkatkan nilai ini, model menjadi lebih konservatif."
   ]
  },
  {
   "cell_type": "markdown",
   "metadata": {},
   "source": [
    "**Grid Search**\n",
    "\n",
    "Kita akan melakukan penyetelan hyperparameter menggunakan grid search, di mana grid search bekerja dengan cara membuat grid di atas ruang pencarian dan mengevaluasi model untuk semua kemungkinan hyperparameter. Ini bagus dalam arti lugas dan komprehensif. Sisi negatifnya, jika ruang pencariannya besar, maka akan sangat mahal dalam hal waktu komputasi.\n",
    "\n",
    "Grid Search lebih disukai daripada Random Search karena Random Search hanya menggunakan sekumpulan hyperparameter acak, sedangkan kami menginginkan kombinasi parameter terbaik."
   ]
  },
  {
   "cell_type": "code",
   "execution_count": 41,
   "metadata": {},
   "outputs": [
    {
     "name": "stdout",
     "output_type": "stream",
     "text": [
      "Fitting 2 folds for each of 63504 candidates, totalling 127008 fits\n"
     ]
    },
    {
     "data": {
      "text/html": [
       "<style>#sk-container-id-1 {color: black;background-color: white;}#sk-container-id-1 pre{padding: 0;}#sk-container-id-1 div.sk-toggleable {background-color: white;}#sk-container-id-1 label.sk-toggleable__label {cursor: pointer;display: block;width: 100%;margin-bottom: 0;padding: 0.3em;box-sizing: border-box;text-align: center;}#sk-container-id-1 label.sk-toggleable__label-arrow:before {content: \"▸\";float: left;margin-right: 0.25em;color: #696969;}#sk-container-id-1 label.sk-toggleable__label-arrow:hover:before {color: black;}#sk-container-id-1 div.sk-estimator:hover label.sk-toggleable__label-arrow:before {color: black;}#sk-container-id-1 div.sk-toggleable__content {max-height: 0;max-width: 0;overflow: hidden;text-align: left;background-color: #f0f8ff;}#sk-container-id-1 div.sk-toggleable__content pre {margin: 0.2em;color: black;border-radius: 0.25em;background-color: #f0f8ff;}#sk-container-id-1 input.sk-toggleable__control:checked~div.sk-toggleable__content {max-height: 200px;max-width: 100%;overflow: auto;}#sk-container-id-1 input.sk-toggleable__control:checked~label.sk-toggleable__label-arrow:before {content: \"▾\";}#sk-container-id-1 div.sk-estimator input.sk-toggleable__control:checked~label.sk-toggleable__label {background-color: #d4ebff;}#sk-container-id-1 div.sk-label input.sk-toggleable__control:checked~label.sk-toggleable__label {background-color: #d4ebff;}#sk-container-id-1 input.sk-hidden--visually {border: 0;clip: rect(1px 1px 1px 1px);clip: rect(1px, 1px, 1px, 1px);height: 1px;margin: -1px;overflow: hidden;padding: 0;position: absolute;width: 1px;}#sk-container-id-1 div.sk-estimator {font-family: monospace;background-color: #f0f8ff;border: 1px dotted black;border-radius: 0.25em;box-sizing: border-box;margin-bottom: 0.5em;}#sk-container-id-1 div.sk-estimator:hover {background-color: #d4ebff;}#sk-container-id-1 div.sk-parallel-item::after {content: \"\";width: 100%;border-bottom: 1px solid gray;flex-grow: 1;}#sk-container-id-1 div.sk-label:hover label.sk-toggleable__label {background-color: #d4ebff;}#sk-container-id-1 div.sk-serial::before {content: \"\";position: absolute;border-left: 1px solid gray;box-sizing: border-box;top: 0;bottom: 0;left: 50%;z-index: 0;}#sk-container-id-1 div.sk-serial {display: flex;flex-direction: column;align-items: center;background-color: white;padding-right: 0.2em;padding-left: 0.2em;position: relative;}#sk-container-id-1 div.sk-item {position: relative;z-index: 1;}#sk-container-id-1 div.sk-parallel {display: flex;align-items: stretch;justify-content: center;background-color: white;position: relative;}#sk-container-id-1 div.sk-item::before, #sk-container-id-1 div.sk-parallel-item::before {content: \"\";position: absolute;border-left: 1px solid gray;box-sizing: border-box;top: 0;bottom: 0;left: 50%;z-index: -1;}#sk-container-id-1 div.sk-parallel-item {display: flex;flex-direction: column;z-index: 1;position: relative;background-color: white;}#sk-container-id-1 div.sk-parallel-item:first-child::after {align-self: flex-end;width: 50%;}#sk-container-id-1 div.sk-parallel-item:last-child::after {align-self: flex-start;width: 50%;}#sk-container-id-1 div.sk-parallel-item:only-child::after {width: 0;}#sk-container-id-1 div.sk-dashed-wrapped {border: 1px dashed gray;margin: 0 0.4em 0.5em 0.4em;box-sizing: border-box;padding-bottom: 0.4em;background-color: white;}#sk-container-id-1 div.sk-label label {font-family: monospace;font-weight: bold;display: inline-block;line-height: 1.2em;}#sk-container-id-1 div.sk-label-container {text-align: center;}#sk-container-id-1 div.sk-container {/* jupyter's `normalize.less` sets `[hidden] { display: none; }` but bootstrap.min.css set `[hidden] { display: none !important; }` so we also need the `!important` here to be able to override the default hidden behavior on the sphinx rendered scikit-learn.org. See: https://github.com/scikit-learn/scikit-learn/issues/21755 */display: inline-block !important;position: relative;}#sk-container-id-1 div.sk-text-repr-fallback {display: none;}</style><div id=\"sk-container-id-1\" class=\"sk-top-container\"><div class=\"sk-text-repr-fallback\"><pre>GridSearchCV(cv=KFold(n_splits=2, random_state=None, shuffle=False),\n",
       "             estimator=Pipeline(steps=[(&#x27;prep&#x27;,\n",
       "                                        ColumnTransformer(transformers=[(&#x27;numeric&#x27;,\n",
       "                                                                         Pipeline(steps=[(&#x27;Scaler&#x27;,\n",
       "                                                                                          StandardScaler()),\n",
       "                                                                                         (&#x27;Power&#x27;,\n",
       "                                                                                          PowerTransformer())]),\n",
       "                                                                         [&#x27;N_FacilitiesNearBy(ETC)&#x27;,\n",
       "                                                                          &#x27;N_FacilitiesNearBy(PublicOffice)&#x27;,\n",
       "                                                                          &#x27;N_SchoolNearBy(University)&#x27;,\n",
       "                                                                          &#x27;N_Parkinglot(Basement)&#x27;,\n",
       "                                                                          &#x27;YearBuilt&#x27;,\n",
       "                                                                          &#x27;N_F...\n",
       "                         &#x27;algo__gamma&#x27;: array([1.e-03, 1.e-02, 1.e-01, 1.e+00, 1.e+01, 1.e+02]),\n",
       "                         &#x27;algo__learning_rate&#x27;: array([0.001, 0.01 , 0.1  , 1.   ]),\n",
       "                         &#x27;algo__max_depth&#x27;: [1, 2, 3],\n",
       "                         &#x27;algo__n_estimators&#x27;: [100, 150],\n",
       "                         &#x27;algo__reg_alpha&#x27;: array([1.e-03, 1.e-02, 1.e-01, 1.e+00, 1.e+01, 1.e+02, 1.e+03]),\n",
       "                         &#x27;algo__reg_lambda&#x27;: array([1.e-03, 1.e-02, 1.e-01, 1.e+00, 1.e+01, 1.e+02, 1.e+03]),\n",
       "                         &#x27;algo__subsample&#x27;: [0.3, 0.5, 0.7]},\n",
       "             scoring=&#x27;r2&#x27;, verbose=1)</pre><b>In a Jupyter environment, please rerun this cell to show the HTML representation or trust the notebook. <br />On GitHub, the HTML representation is unable to render, please try loading this page with nbviewer.org.</b></div><div class=\"sk-container\" hidden><div class=\"sk-item sk-dashed-wrapped\"><div class=\"sk-label-container\"><div class=\"sk-label sk-toggleable\"><input class=\"sk-toggleable__control sk-hidden--visually\" id=\"sk-estimator-id-1\" type=\"checkbox\" ><label for=\"sk-estimator-id-1\" class=\"sk-toggleable__label sk-toggleable__label-arrow\">GridSearchCV</label><div class=\"sk-toggleable__content\"><pre>GridSearchCV(cv=KFold(n_splits=2, random_state=None, shuffle=False),\n",
       "             estimator=Pipeline(steps=[(&#x27;prep&#x27;,\n",
       "                                        ColumnTransformer(transformers=[(&#x27;numeric&#x27;,\n",
       "                                                                         Pipeline(steps=[(&#x27;Scaler&#x27;,\n",
       "                                                                                          StandardScaler()),\n",
       "                                                                                         (&#x27;Power&#x27;,\n",
       "                                                                                          PowerTransformer())]),\n",
       "                                                                         [&#x27;N_FacilitiesNearBy(ETC)&#x27;,\n",
       "                                                                          &#x27;N_FacilitiesNearBy(PublicOffice)&#x27;,\n",
       "                                                                          &#x27;N_SchoolNearBy(University)&#x27;,\n",
       "                                                                          &#x27;N_Parkinglot(Basement)&#x27;,\n",
       "                                                                          &#x27;YearBuilt&#x27;,\n",
       "                                                                          &#x27;N_F...\n",
       "                         &#x27;algo__gamma&#x27;: array([1.e-03, 1.e-02, 1.e-01, 1.e+00, 1.e+01, 1.e+02]),\n",
       "                         &#x27;algo__learning_rate&#x27;: array([0.001, 0.01 , 0.1  , 1.   ]),\n",
       "                         &#x27;algo__max_depth&#x27;: [1, 2, 3],\n",
       "                         &#x27;algo__n_estimators&#x27;: [100, 150],\n",
       "                         &#x27;algo__reg_alpha&#x27;: array([1.e-03, 1.e-02, 1.e-01, 1.e+00, 1.e+01, 1.e+02, 1.e+03]),\n",
       "                         &#x27;algo__reg_lambda&#x27;: array([1.e-03, 1.e-02, 1.e-01, 1.e+00, 1.e+01, 1.e+02, 1.e+03]),\n",
       "                         &#x27;algo__subsample&#x27;: [0.3, 0.5, 0.7]},\n",
       "             scoring=&#x27;r2&#x27;, verbose=1)</pre></div></div></div><div class=\"sk-parallel\"><div class=\"sk-parallel-item\"><div class=\"sk-item\"><div class=\"sk-label-container\"><div class=\"sk-label sk-toggleable\"><input class=\"sk-toggleable__control sk-hidden--visually\" id=\"sk-estimator-id-2\" type=\"checkbox\" ><label for=\"sk-estimator-id-2\" class=\"sk-toggleable__label sk-toggleable__label-arrow\">estimator: Pipeline</label><div class=\"sk-toggleable__content\"><pre>Pipeline(steps=[(&#x27;prep&#x27;,\n",
       "                 ColumnTransformer(transformers=[(&#x27;numeric&#x27;,\n",
       "                                                  Pipeline(steps=[(&#x27;Scaler&#x27;,\n",
       "                                                                   StandardScaler()),\n",
       "                                                                  (&#x27;Power&#x27;,\n",
       "                                                                   PowerTransformer())]),\n",
       "                                                  [&#x27;N_FacilitiesNearBy(ETC)&#x27;,\n",
       "                                                   &#x27;N_FacilitiesNearBy(PublicOffice)&#x27;,\n",
       "                                                   &#x27;N_SchoolNearBy(University)&#x27;,\n",
       "                                                   &#x27;N_Parkinglot(Basement)&#x27;,\n",
       "                                                   &#x27;YearBuilt&#x27;,\n",
       "                                                   &#x27;N_FacilitiesInApt&#x27;,\n",
       "                                                   &#x27;Size(sqf)&#x27;]),\n",
       "                                                 (&#x27;categoric_OHE&#x27;,\n",
       "                                                  Pipeline(steps=[(&#x27;One Hot&#x27;,\n",
       "                                                                   One...\n",
       "                              feature_types=None, gamma=None, gpu_id=None,\n",
       "                              grow_policy=None, importance_type=None,\n",
       "                              interaction_constraints=None, learning_rate=None,\n",
       "                              max_bin=None, max_cat_threshold=None,\n",
       "                              max_cat_to_onehot=None, max_delta_step=None,\n",
       "                              max_depth=None, max_leaves=None,\n",
       "                              min_child_weight=None, missing=nan,\n",
       "                              monotone_constraints=None, n_estimators=100,\n",
       "                              n_jobs=None, num_parallel_tree=None,\n",
       "                              predictor=None, random_state=99, ...))])</pre></div></div></div><div class=\"sk-serial\"><div class=\"sk-item\"><div class=\"sk-serial\"><div class=\"sk-item sk-dashed-wrapped\"><div class=\"sk-label-container\"><div class=\"sk-label sk-toggleable\"><input class=\"sk-toggleable__control sk-hidden--visually\" id=\"sk-estimator-id-3\" type=\"checkbox\" ><label for=\"sk-estimator-id-3\" class=\"sk-toggleable__label sk-toggleable__label-arrow\">prep: ColumnTransformer</label><div class=\"sk-toggleable__content\"><pre>ColumnTransformer(transformers=[(&#x27;numeric&#x27;,\n",
       "                                 Pipeline(steps=[(&#x27;Scaler&#x27;, StandardScaler()),\n",
       "                                                 (&#x27;Power&#x27;,\n",
       "                                                  PowerTransformer())]),\n",
       "                                 [&#x27;N_FacilitiesNearBy(ETC)&#x27;,\n",
       "                                  &#x27;N_FacilitiesNearBy(PublicOffice)&#x27;,\n",
       "                                  &#x27;N_SchoolNearBy(University)&#x27;,\n",
       "                                  &#x27;N_Parkinglot(Basement)&#x27;, &#x27;YearBuilt&#x27;,\n",
       "                                  &#x27;N_FacilitiesInApt&#x27;, &#x27;Size(sqf)&#x27;]),\n",
       "                                (&#x27;categoric_OHE&#x27;,\n",
       "                                 Pipeline(steps=[(&#x27;One Hot&#x27;,\n",
       "                                                  OneHotEncoder(drop=&#x27;first&#x27;,\n",
       "                                                                handle_unknown=&#x27;ignore&#x27;))]),\n",
       "                                 [&#x27;HallwayType&#x27;, &#x27;SubwayStation&#x27;]),\n",
       "                                (&#x27;categoric_Ordinal&#x27;,\n",
       "                                 Pipeline(steps=[(&#x27;Ordinal&#x27;,\n",
       "                                                  OrdinalEncoder(mapping=[{&#x27;col&#x27;: &#x27;TimeToSubway&#x27;,\n",
       "                                                                           &#x27;data_type&#x27;: dtype(&#x27;O&#x27;),\n",
       "                                                                           &#x27;mapping&#x27;: no_bus_stop_nearby    0\n",
       "15min~20min           1\n",
       "10min~15min           2\n",
       "5min~10min            3\n",
       "0-5min                4\n",
       "dtype: int64}]))]),\n",
       "                                 [&#x27;TimeToSubway&#x27;])])</pre></div></div></div><div class=\"sk-parallel\"><div class=\"sk-parallel-item\"><div class=\"sk-item\"><div class=\"sk-label-container\"><div class=\"sk-label sk-toggleable\"><input class=\"sk-toggleable__control sk-hidden--visually\" id=\"sk-estimator-id-4\" type=\"checkbox\" ><label for=\"sk-estimator-id-4\" class=\"sk-toggleable__label sk-toggleable__label-arrow\">numeric</label><div class=\"sk-toggleable__content\"><pre>[&#x27;N_FacilitiesNearBy(ETC)&#x27;, &#x27;N_FacilitiesNearBy(PublicOffice)&#x27;, &#x27;N_SchoolNearBy(University)&#x27;, &#x27;N_Parkinglot(Basement)&#x27;, &#x27;YearBuilt&#x27;, &#x27;N_FacilitiesInApt&#x27;, &#x27;Size(sqf)&#x27;]</pre></div></div></div><div class=\"sk-serial\"><div class=\"sk-item\"><div class=\"sk-serial\"><div class=\"sk-item\"><div class=\"sk-estimator sk-toggleable\"><input class=\"sk-toggleable__control sk-hidden--visually\" id=\"sk-estimator-id-5\" type=\"checkbox\" ><label for=\"sk-estimator-id-5\" class=\"sk-toggleable__label sk-toggleable__label-arrow\">StandardScaler</label><div class=\"sk-toggleable__content\"><pre>StandardScaler()</pre></div></div></div><div class=\"sk-item\"><div class=\"sk-estimator sk-toggleable\"><input class=\"sk-toggleable__control sk-hidden--visually\" id=\"sk-estimator-id-6\" type=\"checkbox\" ><label for=\"sk-estimator-id-6\" class=\"sk-toggleable__label sk-toggleable__label-arrow\">PowerTransformer</label><div class=\"sk-toggleable__content\"><pre>PowerTransformer()</pre></div></div></div></div></div></div></div></div><div class=\"sk-parallel-item\"><div class=\"sk-item\"><div class=\"sk-label-container\"><div class=\"sk-label sk-toggleable\"><input class=\"sk-toggleable__control sk-hidden--visually\" id=\"sk-estimator-id-7\" type=\"checkbox\" ><label for=\"sk-estimator-id-7\" class=\"sk-toggleable__label sk-toggleable__label-arrow\">categoric_OHE</label><div class=\"sk-toggleable__content\"><pre>[&#x27;HallwayType&#x27;, &#x27;SubwayStation&#x27;]</pre></div></div></div><div class=\"sk-serial\"><div class=\"sk-item\"><div class=\"sk-serial\"><div class=\"sk-item\"><div class=\"sk-estimator sk-toggleable\"><input class=\"sk-toggleable__control sk-hidden--visually\" id=\"sk-estimator-id-8\" type=\"checkbox\" ><label for=\"sk-estimator-id-8\" class=\"sk-toggleable__label sk-toggleable__label-arrow\">OneHotEncoder</label><div class=\"sk-toggleable__content\"><pre>OneHotEncoder(drop=&#x27;first&#x27;, handle_unknown=&#x27;ignore&#x27;)</pre></div></div></div></div></div></div></div></div><div class=\"sk-parallel-item\"><div class=\"sk-item\"><div class=\"sk-label-container\"><div class=\"sk-label sk-toggleable\"><input class=\"sk-toggleable__control sk-hidden--visually\" id=\"sk-estimator-id-9\" type=\"checkbox\" ><label for=\"sk-estimator-id-9\" class=\"sk-toggleable__label sk-toggleable__label-arrow\">categoric_Ordinal</label><div class=\"sk-toggleable__content\"><pre>[&#x27;TimeToSubway&#x27;]</pre></div></div></div><div class=\"sk-serial\"><div class=\"sk-item\"><div class=\"sk-serial\"><div class=\"sk-item\"><div class=\"sk-estimator sk-toggleable\"><input class=\"sk-toggleable__control sk-hidden--visually\" id=\"sk-estimator-id-10\" type=\"checkbox\" ><label for=\"sk-estimator-id-10\" class=\"sk-toggleable__label sk-toggleable__label-arrow\">OrdinalEncoder</label><div class=\"sk-toggleable__content\"><pre>OrdinalEncoder(mapping=[{&#x27;col&#x27;: &#x27;TimeToSubway&#x27;, &#x27;data_type&#x27;: dtype(&#x27;O&#x27;),\n",
       "                         &#x27;mapping&#x27;: no_bus_stop_nearby    0\n",
       "15min~20min           1\n",
       "10min~15min           2\n",
       "5min~10min            3\n",
       "0-5min                4\n",
       "dtype: int64}])</pre></div></div></div></div></div></div></div></div></div></div><div class=\"sk-item\"><div class=\"sk-estimator sk-toggleable\"><input class=\"sk-toggleable__control sk-hidden--visually\" id=\"sk-estimator-id-11\" type=\"checkbox\" ><label for=\"sk-estimator-id-11\" class=\"sk-toggleable__label sk-toggleable__label-arrow\">XGBRegressor</label><div class=\"sk-toggleable__content\"><pre>XGBRegressor(base_score=None, booster=None, callbacks=None,\n",
       "             colsample_bylevel=None, colsample_bynode=None,\n",
       "             colsample_bytree=None, early_stopping_rounds=None,\n",
       "             enable_categorical=False, eval_metric=None, feature_types=None,\n",
       "             gamma=None, gpu_id=None, grow_policy=None, importance_type=None,\n",
       "             interaction_constraints=None, learning_rate=None, max_bin=None,\n",
       "             max_cat_threshold=None, max_cat_to_onehot=None,\n",
       "             max_delta_step=None, max_depth=None, max_leaves=None,\n",
       "             min_child_weight=None, missing=nan, monotone_constraints=None,\n",
       "             n_estimators=100, n_jobs=None, num_parallel_tree=None,\n",
       "             predictor=None, random_state=99, ...)</pre></div></div></div></div></div></div></div></div></div></div></div></div>"
      ],
      "text/plain": [
       "GridSearchCV(cv=KFold(n_splits=2, random_state=None, shuffle=False),\n",
       "             estimator=Pipeline(steps=[('prep',\n",
       "                                        ColumnTransformer(transformers=[('numeric',\n",
       "                                                                         Pipeline(steps=[('Scaler',\n",
       "                                                                                          StandardScaler()),\n",
       "                                                                                         ('Power',\n",
       "                                                                                          PowerTransformer())]),\n",
       "                                                                         ['N_FacilitiesNearBy(ETC)',\n",
       "                                                                          'N_FacilitiesNearBy(PublicOffice)',\n",
       "                                                                          'N_SchoolNearBy(University)',\n",
       "                                                                          'N_Parkinglot(Basement)',\n",
       "                                                                          'YearBuilt',\n",
       "                                                                          'N_F...\n",
       "                         'algo__gamma': array([1.e-03, 1.e-02, 1.e-01, 1.e+00, 1.e+01, 1.e+02]),\n",
       "                         'algo__learning_rate': array([0.001, 0.01 , 0.1  , 1.   ]),\n",
       "                         'algo__max_depth': [1, 2, 3],\n",
       "                         'algo__n_estimators': [100, 150],\n",
       "                         'algo__reg_alpha': array([1.e-03, 1.e-02, 1.e-01, 1.e+00, 1.e+01, 1.e+02, 1.e+03]),\n",
       "                         'algo__reg_lambda': array([1.e-03, 1.e-02, 1.e-01, 1.e+00, 1.e+01, 1.e+02, 1.e+03]),\n",
       "                         'algo__subsample': [0.3, 0.5, 0.7]},\n",
       "             scoring='r2', verbose=1)"
      ]
     },
     "execution_count": 41,
     "metadata": {},
     "output_type": "execute_result"
    }
   ],
   "source": [
    "# Defines pipelines pada XGBoost models\n",
    "estimator_xgb = Pipeline([\n",
    "    ('prep', preprocessor),\n",
    "    ('algo', XGBRegressor(random_state=99))\n",
    "])\n",
    "\n",
    "# Define number of folds\n",
    "kf = KFold(n_splits=2)\n",
    "\n",
    "# Melakukan grid search CV\n",
    "XGB_GS = GridSearchCV(estimator_xgb, \n",
    "                    param_XGB, \n",
    "                    cv= kf, \n",
    "                    n_jobs=-1, \n",
    "                    verbose=1, \n",
    "                    scoring='r2'\n",
    "                    )\n",
    "\n",
    "# Fitting data training \n",
    "XGB_GS.fit(X_train, y_train)"
   ]
  },
  {
   "cell_type": "code",
   "execution_count": 42,
   "metadata": {},
   "outputs": [
    {
     "name": "stdout",
     "output_type": "stream",
     "text": [
      "Best Tuning Score :  0.8303071075509385\n",
      "Best Parameter :  {'algo__colsample_bytree': 0.7, 'algo__gamma': 0.001, 'algo__learning_rate': 0.1, 'algo__max_depth': 3, 'algo__n_estimators': 150, 'algo__reg_alpha': 1000.0, 'algo__reg_lambda': 1.0, 'algo__subsample': 0.5}\n"
     ]
    }
   ],
   "source": [
    "# Menunjukan score terbaik dan juga combination of parameters used\n",
    "\n",
    "print(\"Best Tuning Score : \",XGB_GS.best_score_)\n",
    "print(\"Best Parameter : \",XGB_GS.best_params_)"
   ]
  },
  {
   "cell_type": "code",
   "execution_count": 43,
   "metadata": {},
   "outputs": [],
   "source": [
    "# XGB_GS_Tuned variables yang mempunyai paramater combinations terbaik\n",
    "\n",
    "XGB_GS_Tuned = XGB_GS.best_estimator_"
   ]
  },
  {
   "cell_type": "code",
   "execution_count": 44,
   "metadata": {},
   "outputs": [],
   "source": [
    "# Membuat function evaluation matrix\n",
    "\n",
    "def Eva_Matrix_Base(model, X_train, X_test, y_train, y_test, Nama):\n",
    "    Model = model.fit(X_train, y_train)\n",
    "    y_pred_tr = Model.predict(X_train)\n",
    "    R2_train = r2_score(y_train, y_pred_tr)\n",
    "    MAE_train = mean_absolute_error(y_train, y_pred_tr)\n",
    "    MAPE_train = mean_absolute_percentage_error(y_train, y_pred_tr)\n",
    "    y_pred_ts = Model.predict(X_test)\n",
    "    R2_test = r2_score(y_test, y_pred_ts)\n",
    "    MAE_test = mean_absolute_error(y_test, y_pred_ts)\n",
    "    MAPE_test = mean_absolute_percentage_error(y_test, y_pred_ts)\n",
    "    eva_data = {\n",
    "    \"Training\" + Nama : [R2_train, MAE_train, MAPE_train ],\n",
    "    \"Testing\" + Nama : [R2_test, MAE_test, MAPE_test, ],\n",
    "    }\n",
    "    df = pd.DataFrame(eva_data, index=['R2', 'MAE', 'MAPE'])\n",
    "        \n",
    "    return df"
   ]
  },
  {
   "cell_type": "code",
   "execution_count": 45,
   "metadata": {},
   "outputs": [
    {
     "data": {
      "text/html": [
       "<div>\n",
       "<style scoped>\n",
       "    .dataframe tbody tr th:only-of-type {\n",
       "        vertical-align: middle;\n",
       "    }\n",
       "\n",
       "    .dataframe tbody tr th {\n",
       "        vertical-align: top;\n",
       "    }\n",
       "\n",
       "    .dataframe thead th {\n",
       "        text-align: right;\n",
       "    }\n",
       "</style>\n",
       "<table border=\"1\" class=\"dataframe\">\n",
       "  <thead>\n",
       "    <tr style=\"text-align: right;\">\n",
       "      <th></th>\n",
       "      <th>TrainingXGB GS Tuned</th>\n",
       "      <th>TestingXGB GS Tuned</th>\n",
       "    </tr>\n",
       "  </thead>\n",
       "  <tbody>\n",
       "    <tr>\n",
       "      <th>R2</th>\n",
       "      <td>0.840798</td>\n",
       "      <td>0.838714</td>\n",
       "    </tr>\n",
       "    <tr>\n",
       "      <th>MAE</th>\n",
       "      <td>32530.158567</td>\n",
       "      <td>32490.114896</td>\n",
       "    </tr>\n",
       "    <tr>\n",
       "      <th>MAPE</th>\n",
       "      <td>0.179341</td>\n",
       "      <td>0.177990</td>\n",
       "    </tr>\n",
       "  </tbody>\n",
       "</table>\n",
       "</div>"
      ],
      "text/plain": [
       "      TrainingXGB GS Tuned  TestingXGB GS Tuned\n",
       "R2                0.840798             0.838714\n",
       "MAE           32530.158567         32490.114896\n",
       "MAPE              0.179341             0.177990"
      ]
     },
     "execution_count": 45,
     "metadata": {},
     "output_type": "execute_result"
    }
   ],
   "source": [
    "# Menampilkan XGB model testing setelah tuning dengan data testing \n",
    "\n",
    "df_XGB_GS_Tuned = Eva_Matrix_Base(XGB_GS_Tuned, X_train, X_test, y_train, y_test, 'XGB GS Tuned')\n",
    "df_XGB_GS_Tuned"
   ]
  },
  {
   "cell_type": "markdown",
   "metadata": {},
   "source": [
    "Dari hasil evaluation matrix di atas, bisa kita lihat bahwa nilai R2 score dari Training data adalah 0.84 dan testing data adalah 0.83"
   ]
  },
  {
   "cell_type": "markdown",
   "metadata": {},
   "source": [
    "**Decision Tree Algorithm**"
   ]
  },
  {
   "cell_type": "markdown",
   "metadata": {},
   "source": [
    "Selanjutnya, kita akan melakukan hyperparameter tuning pada decision tree algorithm"
   ]
  },
  {
   "cell_type": "code",
   "execution_count": 46,
   "metadata": {},
   "outputs": [],
   "source": [
    "# defines Decision Tree parameter\n",
    "param_dt = {\n",
    "    \n",
    "    \"algo__max_features\" : np.arange(0.1,1,0.1),\n",
    "    \"algo__max_depth\": np.arange(2,20),\n",
    "    \"algo__min_samples_split\" : np.arange(2,20),\n",
    "    \"algo__min_samples_leaf\"  : np.arange(1,20),\n",
    "    \n",
    "}"
   ]
  },
  {
   "cell_type": "markdown",
   "metadata": {},
   "source": [
    "**Hyperparameter pada Decision Tree**\n",
    "\n",
    "- max_features = Jumlah maksimum feature yang diperhitungkan saat memisahkan sebuah node.\n",
    "- max_ depth = Setiap decision tree mempunyai jumlah level maksimum.\n",
    "- min_samples_split = Jumlah minimum titik data yang dapat ditempatkan dalam sebuah node sebelum dipecah.\n",
    "- min_samples_leaf = Node daun hanya dapat memiliki sejumlah titik data tertentu."
   ]
  },
  {
   "cell_type": "code",
   "execution_count": 47,
   "metadata": {},
   "outputs": [
    {
     "name": "stdout",
     "output_type": "stream",
     "text": [
      "Fitting 2 folds for each of 55404 candidates, totalling 110808 fits\n"
     ]
    },
    {
     "data": {
      "text/html": [
       "<style>#sk-container-id-2 {color: black;background-color: white;}#sk-container-id-2 pre{padding: 0;}#sk-container-id-2 div.sk-toggleable {background-color: white;}#sk-container-id-2 label.sk-toggleable__label {cursor: pointer;display: block;width: 100%;margin-bottom: 0;padding: 0.3em;box-sizing: border-box;text-align: center;}#sk-container-id-2 label.sk-toggleable__label-arrow:before {content: \"▸\";float: left;margin-right: 0.25em;color: #696969;}#sk-container-id-2 label.sk-toggleable__label-arrow:hover:before {color: black;}#sk-container-id-2 div.sk-estimator:hover label.sk-toggleable__label-arrow:before {color: black;}#sk-container-id-2 div.sk-toggleable__content {max-height: 0;max-width: 0;overflow: hidden;text-align: left;background-color: #f0f8ff;}#sk-container-id-2 div.sk-toggleable__content pre {margin: 0.2em;color: black;border-radius: 0.25em;background-color: #f0f8ff;}#sk-container-id-2 input.sk-toggleable__control:checked~div.sk-toggleable__content {max-height: 200px;max-width: 100%;overflow: auto;}#sk-container-id-2 input.sk-toggleable__control:checked~label.sk-toggleable__label-arrow:before {content: \"▾\";}#sk-container-id-2 div.sk-estimator input.sk-toggleable__control:checked~label.sk-toggleable__label {background-color: #d4ebff;}#sk-container-id-2 div.sk-label input.sk-toggleable__control:checked~label.sk-toggleable__label {background-color: #d4ebff;}#sk-container-id-2 input.sk-hidden--visually {border: 0;clip: rect(1px 1px 1px 1px);clip: rect(1px, 1px, 1px, 1px);height: 1px;margin: -1px;overflow: hidden;padding: 0;position: absolute;width: 1px;}#sk-container-id-2 div.sk-estimator {font-family: monospace;background-color: #f0f8ff;border: 1px dotted black;border-radius: 0.25em;box-sizing: border-box;margin-bottom: 0.5em;}#sk-container-id-2 div.sk-estimator:hover {background-color: #d4ebff;}#sk-container-id-2 div.sk-parallel-item::after {content: \"\";width: 100%;border-bottom: 1px solid gray;flex-grow: 1;}#sk-container-id-2 div.sk-label:hover label.sk-toggleable__label {background-color: #d4ebff;}#sk-container-id-2 div.sk-serial::before {content: \"\";position: absolute;border-left: 1px solid gray;box-sizing: border-box;top: 0;bottom: 0;left: 50%;z-index: 0;}#sk-container-id-2 div.sk-serial {display: flex;flex-direction: column;align-items: center;background-color: white;padding-right: 0.2em;padding-left: 0.2em;position: relative;}#sk-container-id-2 div.sk-item {position: relative;z-index: 1;}#sk-container-id-2 div.sk-parallel {display: flex;align-items: stretch;justify-content: center;background-color: white;position: relative;}#sk-container-id-2 div.sk-item::before, #sk-container-id-2 div.sk-parallel-item::before {content: \"\";position: absolute;border-left: 1px solid gray;box-sizing: border-box;top: 0;bottom: 0;left: 50%;z-index: -1;}#sk-container-id-2 div.sk-parallel-item {display: flex;flex-direction: column;z-index: 1;position: relative;background-color: white;}#sk-container-id-2 div.sk-parallel-item:first-child::after {align-self: flex-end;width: 50%;}#sk-container-id-2 div.sk-parallel-item:last-child::after {align-self: flex-start;width: 50%;}#sk-container-id-2 div.sk-parallel-item:only-child::after {width: 0;}#sk-container-id-2 div.sk-dashed-wrapped {border: 1px dashed gray;margin: 0 0.4em 0.5em 0.4em;box-sizing: border-box;padding-bottom: 0.4em;background-color: white;}#sk-container-id-2 div.sk-label label {font-family: monospace;font-weight: bold;display: inline-block;line-height: 1.2em;}#sk-container-id-2 div.sk-label-container {text-align: center;}#sk-container-id-2 div.sk-container {/* jupyter's `normalize.less` sets `[hidden] { display: none; }` but bootstrap.min.css set `[hidden] { display: none !important; }` so we also need the `!important` here to be able to override the default hidden behavior on the sphinx rendered scikit-learn.org. See: https://github.com/scikit-learn/scikit-learn/issues/21755 */display: inline-block !important;position: relative;}#sk-container-id-2 div.sk-text-repr-fallback {display: none;}</style><div id=\"sk-container-id-2\" class=\"sk-top-container\"><div class=\"sk-text-repr-fallback\"><pre>GridSearchCV(cv=KFold(n_splits=2, random_state=None, shuffle=False),\n",
       "             estimator=Pipeline(steps=[(&#x27;prep&#x27;,\n",
       "                                        ColumnTransformer(transformers=[(&#x27;numeric&#x27;,\n",
       "                                                                         Pipeline(steps=[(&#x27;Scaler&#x27;,\n",
       "                                                                                          StandardScaler()),\n",
       "                                                                                         (&#x27;Power&#x27;,\n",
       "                                                                                          PowerTransformer())]),\n",
       "                                                                         [&#x27;N_FacilitiesNearBy(ETC)&#x27;,\n",
       "                                                                          &#x27;N_FacilitiesNearBy(PublicOffice)&#x27;,\n",
       "                                                                          &#x27;N_SchoolNearBy(University)&#x27;,\n",
       "                                                                          &#x27;N_Parkinglot(Basement)&#x27;,\n",
       "                                                                          &#x27;YearBuilt&#x27;,\n",
       "                                                                          &#x27;N_F...\n",
       "                                        DecisionTreeRegressor(random_state=99))]),\n",
       "             n_jobs=-1,\n",
       "             param_grid={&#x27;algo__max_depth&#x27;: array([ 2,  3,  4,  5,  6,  7,  8,  9, 10, 11, 12, 13, 14, 15, 16, 17, 18,\n",
       "       19]),\n",
       "                         &#x27;algo__max_features&#x27;: array([0.1, 0.2, 0.3, 0.4, 0.5, 0.6, 0.7, 0.8, 0.9]),\n",
       "                         &#x27;algo__min_samples_leaf&#x27;: array([ 1,  2,  3,  4,  5,  6,  7,  8,  9, 10, 11, 12, 13, 14, 15, 16, 17,\n",
       "       18, 19]),\n",
       "                         &#x27;algo__min_samples_split&#x27;: array([ 2,  3,  4,  5,  6,  7,  8,  9, 10, 11, 12, 13, 14, 15, 16, 17, 18,\n",
       "       19])},\n",
       "             scoring=&#x27;r2&#x27;, verbose=1)</pre><b>In a Jupyter environment, please rerun this cell to show the HTML representation or trust the notebook. <br />On GitHub, the HTML representation is unable to render, please try loading this page with nbviewer.org.</b></div><div class=\"sk-container\" hidden><div class=\"sk-item sk-dashed-wrapped\"><div class=\"sk-label-container\"><div class=\"sk-label sk-toggleable\"><input class=\"sk-toggleable__control sk-hidden--visually\" id=\"sk-estimator-id-12\" type=\"checkbox\" ><label for=\"sk-estimator-id-12\" class=\"sk-toggleable__label sk-toggleable__label-arrow\">GridSearchCV</label><div class=\"sk-toggleable__content\"><pre>GridSearchCV(cv=KFold(n_splits=2, random_state=None, shuffle=False),\n",
       "             estimator=Pipeline(steps=[(&#x27;prep&#x27;,\n",
       "                                        ColumnTransformer(transformers=[(&#x27;numeric&#x27;,\n",
       "                                                                         Pipeline(steps=[(&#x27;Scaler&#x27;,\n",
       "                                                                                          StandardScaler()),\n",
       "                                                                                         (&#x27;Power&#x27;,\n",
       "                                                                                          PowerTransformer())]),\n",
       "                                                                         [&#x27;N_FacilitiesNearBy(ETC)&#x27;,\n",
       "                                                                          &#x27;N_FacilitiesNearBy(PublicOffice)&#x27;,\n",
       "                                                                          &#x27;N_SchoolNearBy(University)&#x27;,\n",
       "                                                                          &#x27;N_Parkinglot(Basement)&#x27;,\n",
       "                                                                          &#x27;YearBuilt&#x27;,\n",
       "                                                                          &#x27;N_F...\n",
       "                                        DecisionTreeRegressor(random_state=99))]),\n",
       "             n_jobs=-1,\n",
       "             param_grid={&#x27;algo__max_depth&#x27;: array([ 2,  3,  4,  5,  6,  7,  8,  9, 10, 11, 12, 13, 14, 15, 16, 17, 18,\n",
       "       19]),\n",
       "                         &#x27;algo__max_features&#x27;: array([0.1, 0.2, 0.3, 0.4, 0.5, 0.6, 0.7, 0.8, 0.9]),\n",
       "                         &#x27;algo__min_samples_leaf&#x27;: array([ 1,  2,  3,  4,  5,  6,  7,  8,  9, 10, 11, 12, 13, 14, 15, 16, 17,\n",
       "       18, 19]),\n",
       "                         &#x27;algo__min_samples_split&#x27;: array([ 2,  3,  4,  5,  6,  7,  8,  9, 10, 11, 12, 13, 14, 15, 16, 17, 18,\n",
       "       19])},\n",
       "             scoring=&#x27;r2&#x27;, verbose=1)</pre></div></div></div><div class=\"sk-parallel\"><div class=\"sk-parallel-item\"><div class=\"sk-item\"><div class=\"sk-label-container\"><div class=\"sk-label sk-toggleable\"><input class=\"sk-toggleable__control sk-hidden--visually\" id=\"sk-estimator-id-13\" type=\"checkbox\" ><label for=\"sk-estimator-id-13\" class=\"sk-toggleable__label sk-toggleable__label-arrow\">estimator: Pipeline</label><div class=\"sk-toggleable__content\"><pre>Pipeline(steps=[(&#x27;prep&#x27;,\n",
       "                 ColumnTransformer(transformers=[(&#x27;numeric&#x27;,\n",
       "                                                  Pipeline(steps=[(&#x27;Scaler&#x27;,\n",
       "                                                                   StandardScaler()),\n",
       "                                                                  (&#x27;Power&#x27;,\n",
       "                                                                   PowerTransformer())]),\n",
       "                                                  [&#x27;N_FacilitiesNearBy(ETC)&#x27;,\n",
       "                                                   &#x27;N_FacilitiesNearBy(PublicOffice)&#x27;,\n",
       "                                                   &#x27;N_SchoolNearBy(University)&#x27;,\n",
       "                                                   &#x27;N_Parkinglot(Basement)&#x27;,\n",
       "                                                   &#x27;YearBuilt&#x27;,\n",
       "                                                   &#x27;N_FacilitiesInApt&#x27;,\n",
       "                                                   &#x27;Size(sqf)&#x27;]),\n",
       "                                                 (&#x27;categoric_OHE&#x27;,\n",
       "                                                  Pipeline(steps=[(&#x27;One Hot&#x27;,\n",
       "                                                                   One...drop=&#x27;first&#x27;,\n",
       "                                                                                 handle_unknown=&#x27;ignore&#x27;))]),\n",
       "                                                  [&#x27;HallwayType&#x27;,\n",
       "                                                   &#x27;SubwayStation&#x27;]),\n",
       "                                                 (&#x27;categoric_Ordinal&#x27;,\n",
       "                                                  Pipeline(steps=[(&#x27;Ordinal&#x27;,\n",
       "                                                                   OrdinalEncoder(mapping=[{&#x27;col&#x27;: &#x27;TimeToSubway&#x27;,\n",
       "                                                                                            &#x27;data_type&#x27;: dtype(&#x27;O&#x27;),\n",
       "                                                                                            &#x27;mapping&#x27;: no_bus_stop_nearby    0\n",
       "15min~20min           1\n",
       "10min~15min           2\n",
       "5min~10min            3\n",
       "0-5min                4\n",
       "dtype: int64}]))]),\n",
       "                                                  [&#x27;TimeToSubway&#x27;])])),\n",
       "                (&#x27;algo&#x27;, DecisionTreeRegressor(random_state=99))])</pre></div></div></div><div class=\"sk-serial\"><div class=\"sk-item\"><div class=\"sk-serial\"><div class=\"sk-item sk-dashed-wrapped\"><div class=\"sk-label-container\"><div class=\"sk-label sk-toggleable\"><input class=\"sk-toggleable__control sk-hidden--visually\" id=\"sk-estimator-id-14\" type=\"checkbox\" ><label for=\"sk-estimator-id-14\" class=\"sk-toggleable__label sk-toggleable__label-arrow\">prep: ColumnTransformer</label><div class=\"sk-toggleable__content\"><pre>ColumnTransformer(transformers=[(&#x27;numeric&#x27;,\n",
       "                                 Pipeline(steps=[(&#x27;Scaler&#x27;, StandardScaler()),\n",
       "                                                 (&#x27;Power&#x27;,\n",
       "                                                  PowerTransformer())]),\n",
       "                                 [&#x27;N_FacilitiesNearBy(ETC)&#x27;,\n",
       "                                  &#x27;N_FacilitiesNearBy(PublicOffice)&#x27;,\n",
       "                                  &#x27;N_SchoolNearBy(University)&#x27;,\n",
       "                                  &#x27;N_Parkinglot(Basement)&#x27;, &#x27;YearBuilt&#x27;,\n",
       "                                  &#x27;N_FacilitiesInApt&#x27;, &#x27;Size(sqf)&#x27;]),\n",
       "                                (&#x27;categoric_OHE&#x27;,\n",
       "                                 Pipeline(steps=[(&#x27;One Hot&#x27;,\n",
       "                                                  OneHotEncoder(drop=&#x27;first&#x27;,\n",
       "                                                                handle_unknown=&#x27;ignore&#x27;))]),\n",
       "                                 [&#x27;HallwayType&#x27;, &#x27;SubwayStation&#x27;]),\n",
       "                                (&#x27;categoric_Ordinal&#x27;,\n",
       "                                 Pipeline(steps=[(&#x27;Ordinal&#x27;,\n",
       "                                                  OrdinalEncoder(mapping=[{&#x27;col&#x27;: &#x27;TimeToSubway&#x27;,\n",
       "                                                                           &#x27;data_type&#x27;: dtype(&#x27;O&#x27;),\n",
       "                                                                           &#x27;mapping&#x27;: no_bus_stop_nearby    0\n",
       "15min~20min           1\n",
       "10min~15min           2\n",
       "5min~10min            3\n",
       "0-5min                4\n",
       "dtype: int64}]))]),\n",
       "                                 [&#x27;TimeToSubway&#x27;])])</pre></div></div></div><div class=\"sk-parallel\"><div class=\"sk-parallel-item\"><div class=\"sk-item\"><div class=\"sk-label-container\"><div class=\"sk-label sk-toggleable\"><input class=\"sk-toggleable__control sk-hidden--visually\" id=\"sk-estimator-id-15\" type=\"checkbox\" ><label for=\"sk-estimator-id-15\" class=\"sk-toggleable__label sk-toggleable__label-arrow\">numeric</label><div class=\"sk-toggleable__content\"><pre>[&#x27;N_FacilitiesNearBy(ETC)&#x27;, &#x27;N_FacilitiesNearBy(PublicOffice)&#x27;, &#x27;N_SchoolNearBy(University)&#x27;, &#x27;N_Parkinglot(Basement)&#x27;, &#x27;YearBuilt&#x27;, &#x27;N_FacilitiesInApt&#x27;, &#x27;Size(sqf)&#x27;]</pre></div></div></div><div class=\"sk-serial\"><div class=\"sk-item\"><div class=\"sk-serial\"><div class=\"sk-item\"><div class=\"sk-estimator sk-toggleable\"><input class=\"sk-toggleable__control sk-hidden--visually\" id=\"sk-estimator-id-16\" type=\"checkbox\" ><label for=\"sk-estimator-id-16\" class=\"sk-toggleable__label sk-toggleable__label-arrow\">StandardScaler</label><div class=\"sk-toggleable__content\"><pre>StandardScaler()</pre></div></div></div><div class=\"sk-item\"><div class=\"sk-estimator sk-toggleable\"><input class=\"sk-toggleable__control sk-hidden--visually\" id=\"sk-estimator-id-17\" type=\"checkbox\" ><label for=\"sk-estimator-id-17\" class=\"sk-toggleable__label sk-toggleable__label-arrow\">PowerTransformer</label><div class=\"sk-toggleable__content\"><pre>PowerTransformer()</pre></div></div></div></div></div></div></div></div><div class=\"sk-parallel-item\"><div class=\"sk-item\"><div class=\"sk-label-container\"><div class=\"sk-label sk-toggleable\"><input class=\"sk-toggleable__control sk-hidden--visually\" id=\"sk-estimator-id-18\" type=\"checkbox\" ><label for=\"sk-estimator-id-18\" class=\"sk-toggleable__label sk-toggleable__label-arrow\">categoric_OHE</label><div class=\"sk-toggleable__content\"><pre>[&#x27;HallwayType&#x27;, &#x27;SubwayStation&#x27;]</pre></div></div></div><div class=\"sk-serial\"><div class=\"sk-item\"><div class=\"sk-serial\"><div class=\"sk-item\"><div class=\"sk-estimator sk-toggleable\"><input class=\"sk-toggleable__control sk-hidden--visually\" id=\"sk-estimator-id-19\" type=\"checkbox\" ><label for=\"sk-estimator-id-19\" class=\"sk-toggleable__label sk-toggleable__label-arrow\">OneHotEncoder</label><div class=\"sk-toggleable__content\"><pre>OneHotEncoder(drop=&#x27;first&#x27;, handle_unknown=&#x27;ignore&#x27;)</pre></div></div></div></div></div></div></div></div><div class=\"sk-parallel-item\"><div class=\"sk-item\"><div class=\"sk-label-container\"><div class=\"sk-label sk-toggleable\"><input class=\"sk-toggleable__control sk-hidden--visually\" id=\"sk-estimator-id-20\" type=\"checkbox\" ><label for=\"sk-estimator-id-20\" class=\"sk-toggleable__label sk-toggleable__label-arrow\">categoric_Ordinal</label><div class=\"sk-toggleable__content\"><pre>[&#x27;TimeToSubway&#x27;]</pre></div></div></div><div class=\"sk-serial\"><div class=\"sk-item\"><div class=\"sk-serial\"><div class=\"sk-item\"><div class=\"sk-estimator sk-toggleable\"><input class=\"sk-toggleable__control sk-hidden--visually\" id=\"sk-estimator-id-21\" type=\"checkbox\" ><label for=\"sk-estimator-id-21\" class=\"sk-toggleable__label sk-toggleable__label-arrow\">OrdinalEncoder</label><div class=\"sk-toggleable__content\"><pre>OrdinalEncoder(mapping=[{&#x27;col&#x27;: &#x27;TimeToSubway&#x27;, &#x27;data_type&#x27;: dtype(&#x27;O&#x27;),\n",
       "                         &#x27;mapping&#x27;: no_bus_stop_nearby    0\n",
       "15min~20min           1\n",
       "10min~15min           2\n",
       "5min~10min            3\n",
       "0-5min                4\n",
       "dtype: int64}])</pre></div></div></div></div></div></div></div></div></div></div><div class=\"sk-item\"><div class=\"sk-estimator sk-toggleable\"><input class=\"sk-toggleable__control sk-hidden--visually\" id=\"sk-estimator-id-22\" type=\"checkbox\" ><label for=\"sk-estimator-id-22\" class=\"sk-toggleable__label sk-toggleable__label-arrow\">DecisionTreeRegressor</label><div class=\"sk-toggleable__content\"><pre>DecisionTreeRegressor(random_state=99)</pre></div></div></div></div></div></div></div></div></div></div></div></div>"
      ],
      "text/plain": [
       "GridSearchCV(cv=KFold(n_splits=2, random_state=None, shuffle=False),\n",
       "             estimator=Pipeline(steps=[('prep',\n",
       "                                        ColumnTransformer(transformers=[('numeric',\n",
       "                                                                         Pipeline(steps=[('Scaler',\n",
       "                                                                                          StandardScaler()),\n",
       "                                                                                         ('Power',\n",
       "                                                                                          PowerTransformer())]),\n",
       "                                                                         ['N_FacilitiesNearBy(ETC)',\n",
       "                                                                          'N_FacilitiesNearBy(PublicOffice)',\n",
       "                                                                          'N_SchoolNearBy(University)',\n",
       "                                                                          'N_Parkinglot(Basement)',\n",
       "                                                                          'YearBuilt',\n",
       "                                                                          'N_F...\n",
       "                                        DecisionTreeRegressor(random_state=99))]),\n",
       "             n_jobs=-1,\n",
       "             param_grid={'algo__max_depth': array([ 2,  3,  4,  5,  6,  7,  8,  9, 10, 11, 12, 13, 14, 15, 16, 17, 18,\n",
       "       19]),\n",
       "                         'algo__max_features': array([0.1, 0.2, 0.3, 0.4, 0.5, 0.6, 0.7, 0.8, 0.9]),\n",
       "                         'algo__min_samples_leaf': array([ 1,  2,  3,  4,  5,  6,  7,  8,  9, 10, 11, 12, 13, 14, 15, 16, 17,\n",
       "       18, 19]),\n",
       "                         'algo__min_samples_split': array([ 2,  3,  4,  5,  6,  7,  8,  9, 10, 11, 12, 13, 14, 15, 16, 17, 18,\n",
       "       19])},\n",
       "             scoring='r2', verbose=1)"
      ]
     },
     "execution_count": 47,
     "metadata": {},
     "output_type": "execute_result"
    }
   ],
   "source": [
    "# Defines pipelines on XGBoost models\n",
    "estimator_dt = Pipeline([\n",
    "    ('prep', preprocessor),\n",
    "    ('algo', DecisionTreeRegressor(random_state=99))\n",
    "])\n",
    "\n",
    "# Define number of folds\n",
    "kf = KFold(n_splits=2)\n",
    "\n",
    "# Melakukan grid search CV\n",
    "DT_GS = GridSearchCV(estimator_dt, \n",
    "                    param_dt, \n",
    "                    cv= kf, \n",
    "                    n_jobs=-1, \n",
    "                    verbose=1, \n",
    "                    scoring='r2'\n",
    "                    )\n",
    "\n",
    "# Fitting data training \n",
    "DT_GS.fit(X_train, y_train)\n"
   ]
  },
  {
   "cell_type": "code",
   "execution_count": 49,
   "metadata": {},
   "outputs": [
    {
     "name": "stdout",
     "output_type": "stream",
     "text": [
      "Best Tuning Score :  0.8280842893500049\n",
      "Best Parameter :  {'algo__max_depth': 11, 'algo__max_features': 0.9, 'algo__min_samples_leaf': 1, 'algo__min_samples_split': 17}\n"
     ]
    }
   ],
   "source": [
    "# Menunjukan score terbaik dan juga combination of parameters yang telah dipakai\n",
    "\n",
    "print(\"Best Tuning Score : \",DT_GS.best_score_)\n",
    "print(\"Best Parameter : \",DT_GS.best_params_)"
   ]
  },
  {
   "cell_type": "code",
   "execution_count": 50,
   "metadata": {},
   "outputs": [],
   "source": [
    "# DT_GS_Tuned variables yang mempunyai paramater combinations terbaik\n",
    "\n",
    "DT_GS_Tuned = DT_GS.best_estimator_"
   ]
  },
  {
   "cell_type": "code",
   "execution_count": 51,
   "metadata": {},
   "outputs": [],
   "source": [
    "# Menampilkan Decision Tree model testing setelah tuning dengan data testing \n",
    "\n",
    "df_DT_GS_Tuned = Eva_Matrix_Base(DT_GS_Tuned, X_train, X_test, y_train, y_test, 'DT GS Tuned')"
   ]
  },
  {
   "cell_type": "code",
   "execution_count": 52,
   "metadata": {},
   "outputs": [
    {
     "data": {
      "text/html": [
       "<div>\n",
       "<style scoped>\n",
       "    .dataframe tbody tr th:only-of-type {\n",
       "        vertical-align: middle;\n",
       "    }\n",
       "\n",
       "    .dataframe tbody tr th {\n",
       "        vertical-align: top;\n",
       "    }\n",
       "\n",
       "    .dataframe thead th {\n",
       "        text-align: right;\n",
       "    }\n",
       "</style>\n",
       "<table border=\"1\" class=\"dataframe\">\n",
       "  <thead>\n",
       "    <tr style=\"text-align: right;\">\n",
       "      <th></th>\n",
       "      <th>TrainingDT GS Tuned</th>\n",
       "      <th>TestingDT GS Tuned</th>\n",
       "    </tr>\n",
       "  </thead>\n",
       "  <tbody>\n",
       "    <tr>\n",
       "      <th>R2</th>\n",
       "      <td>0.842487</td>\n",
       "      <td>0.838948</td>\n",
       "    </tr>\n",
       "    <tr>\n",
       "      <th>MAE</th>\n",
       "      <td>32277.820263</td>\n",
       "      <td>32457.800865</td>\n",
       "    </tr>\n",
       "    <tr>\n",
       "      <th>MAPE</th>\n",
       "      <td>0.177265</td>\n",
       "      <td>0.176406</td>\n",
       "    </tr>\n",
       "  </tbody>\n",
       "</table>\n",
       "</div>"
      ],
      "text/plain": [
       "      TrainingDT GS Tuned  TestingDT GS Tuned\n",
       "R2               0.842487            0.838948\n",
       "MAE          32277.820263        32457.800865\n",
       "MAPE             0.177265            0.176406"
      ]
     },
     "execution_count": 52,
     "metadata": {},
     "output_type": "execute_result"
    }
   ],
   "source": [
    "df_DT_GS_Tuned"
   ]
  },
  {
   "cell_type": "markdown",
   "metadata": {},
   "source": [
    "Dari hasil evaluation matrix terlihat hasil nilai R2 Score dari model Decision Tree pada data latih sebesar 0,84 dan pada data uji sebesar 0,838."
   ]
  },
  {
   "cell_type": "markdown",
   "metadata": {},
   "source": [
    "**Perbandingan dari Hasil Evaluation Matrix**"
   ]
  },
  {
   "cell_type": "code",
   "execution_count": 58,
   "metadata": {},
   "outputs": [
    {
     "data": {
      "text/html": [
       "<div>\n",
       "<style scoped>\n",
       "    .dataframe tbody tr th:only-of-type {\n",
       "        vertical-align: middle;\n",
       "    }\n",
       "\n",
       "    .dataframe tbody tr th {\n",
       "        vertical-align: top;\n",
       "    }\n",
       "\n",
       "    .dataframe thead th {\n",
       "        text-align: right;\n",
       "    }\n",
       "</style>\n",
       "<table border=\"1\" class=\"dataframe\">\n",
       "  <thead>\n",
       "    <tr style=\"text-align: right;\">\n",
       "      <th></th>\n",
       "      <th>TrainingXGB GS Tuned</th>\n",
       "      <th>TestingXGB GS Tuned</th>\n",
       "      <th>TrainingDT GS Tuned</th>\n",
       "      <th>TestingDT GS Tuned</th>\n",
       "    </tr>\n",
       "  </thead>\n",
       "  <tbody>\n",
       "    <tr>\n",
       "      <th>R2</th>\n",
       "      <td>0.840798</td>\n",
       "      <td>0.838714</td>\n",
       "      <td>0.842487</td>\n",
       "      <td>0.838948</td>\n",
       "    </tr>\n",
       "    <tr>\n",
       "      <th>MAE</th>\n",
       "      <td>32530.158567</td>\n",
       "      <td>32490.114896</td>\n",
       "      <td>32277.820263</td>\n",
       "      <td>32457.800865</td>\n",
       "    </tr>\n",
       "    <tr>\n",
       "      <th>MAPE</th>\n",
       "      <td>0.179341</td>\n",
       "      <td>0.177990</td>\n",
       "      <td>0.177265</td>\n",
       "      <td>0.176406</td>\n",
       "    </tr>\n",
       "  </tbody>\n",
       "</table>\n",
       "</div>"
      ],
      "text/plain": [
       "      TrainingXGB GS Tuned  TestingXGB GS Tuned  TrainingDT GS Tuned  \\\n",
       "R2                0.840798             0.838714             0.842487   \n",
       "MAE           32530.158567         32490.114896         32277.820263   \n",
       "MAPE              0.179341             0.177990             0.177265   \n",
       "\n",
       "      TestingDT GS Tuned  \n",
       "R2              0.838948  \n",
       "MAE         32457.800865  \n",
       "MAPE            0.176406  "
      ]
     },
     "execution_count": 58,
     "metadata": {},
     "output_type": "execute_result"
    }
   ],
   "source": [
    "# Menampilkan XGBoost and Decision Tree models setelah tuning\n",
    "\n",
    "pd.concat([df_XGB_GS_Tuned,df_DT_GS_Tuned], axis=1)"
   ]
  },
  {
   "cell_type": "markdown",
   "metadata": {},
   "source": [
    "Dari evaluation matrix di atas terlihat bahwa model terbaik adalah XGBoost yang menghasilkan nilai pelatihan dan pengujian R2 Score sebesar 0,84 dan 0,839. Kemudian pada hasil pengujian XGB tuned memiliki MAE sebesar 32618.4 dan MAPE sebesar 0.179."
   ]
  },
  {
   "cell_type": "code",
   "execution_count": 59,
   "metadata": {},
   "outputs": [
    {
     "data": {
      "text/html": [
       "<div>\n",
       "<style scoped>\n",
       "    .dataframe tbody tr th:only-of-type {\n",
       "        vertical-align: middle;\n",
       "    }\n",
       "\n",
       "    .dataframe tbody tr th {\n",
       "        vertical-align: top;\n",
       "    }\n",
       "\n",
       "    .dataframe thead th {\n",
       "        text-align: right;\n",
       "    }\n",
       "</style>\n",
       "<table border=\"1\" class=\"dataframe\">\n",
       "  <thead>\n",
       "    <tr style=\"text-align: right;\">\n",
       "      <th></th>\n",
       "      <th>TrainingXGB GS</th>\n",
       "      <th>TestingXGB GS</th>\n",
       "      <th>TrainingXGB GS Tuned</th>\n",
       "      <th>TestingXGB GS Tuned</th>\n",
       "    </tr>\n",
       "  </thead>\n",
       "  <tbody>\n",
       "    <tr>\n",
       "      <th>R2</th>\n",
       "      <td>0.842692</td>\n",
       "      <td>0.839071</td>\n",
       "      <td>0.840798</td>\n",
       "      <td>0.838714</td>\n",
       "    </tr>\n",
       "    <tr>\n",
       "      <th>MAE</th>\n",
       "      <td>32232.503575</td>\n",
       "      <td>32439.658001</td>\n",
       "      <td>32530.158567</td>\n",
       "      <td>32490.114896</td>\n",
       "    </tr>\n",
       "    <tr>\n",
       "      <th>MAPE</th>\n",
       "      <td>0.176887</td>\n",
       "      <td>0.176515</td>\n",
       "      <td>0.179341</td>\n",
       "      <td>0.177990</td>\n",
       "    </tr>\n",
       "  </tbody>\n",
       "</table>\n",
       "</div>"
      ],
      "text/plain": [
       "      TrainingXGB GS  TestingXGB GS  TrainingXGB GS Tuned  TestingXGB GS Tuned\n",
       "R2          0.842692       0.839071              0.840798             0.838714\n",
       "MAE     32232.503575   32439.658001          32530.158567         32490.114896\n",
       "MAPE        0.176887       0.176515              0.179341             0.177990"
      ]
     },
     "execution_count": 59,
     "metadata": {},
     "output_type": "execute_result"
    }
   ],
   "source": [
    "# Menampilkan XGBoost model sebelum dan sesudah tuning\n",
    "\n",
    "df_estimator_XGB = Eva_Matrix_Base(estimator_xgb, X_train, X_test, y_train, y_test, 'XGB GS')\n",
    "pd.concat([df_estimator_XGB, df_XGB_GS_Tuned],axis=1)"
   ]
  },
  {
   "cell_type": "markdown",
   "metadata": {},
   "source": [
    "Dari hasil evaluation matrix di atas terlihat bahwa hasil R2 Score algortima XGBoost meningkat setelah dilakukan tuning yaitu kurang lebih 0,0001 atau 0,01% ketika diuji menggunakan data pengujian, namun nilai MAPE meningkat kurang lebih 0,003 atau 0,3%. Sedangkan nilai MAE mengalami penurunan."
   ]
  },
  {
   "cell_type": "markdown",
   "metadata": {},
   "source": [
    "# Conclusion"
   ]
  },
  {
   "cell_type": "markdown",
   "metadata": {},
   "source": [
    "Berdasarkan hasil Evaluation Matrix, model terbaik setelah tuning adalah XGBoost dengan R2 score yaitu 0.839 atau 83.9% menanadakan bahwa model sudah cukup baik menjelaskan variasi dalam Y value\n",
    "\n",
    "Model ini juga memiliki rata-rata persentase probabilitas kesalahan (MAPE) sebesar 0,179 atau 17,9% yang berarti prediksi harga apartemen dapat menyimpang dari harga sebenarnya sebesar 17,77%, yang bisa lebih tinggi atau lebih rendah dari harga aslinya. Harga rata-rata apartemen adalah 32618,4 won.\n",
    "\n",
    "Model yang dibuat juga memiliki keterbatasan yaitu hanya dapat memprediksi apartemen dengan biaya kurang dari $510747 dan memiliki luas ruangan kurang dari 32397 sqf."
   ]
  },
  {
   "cell_type": "markdown",
   "metadata": {},
   "source": [
    "# Recomendations"
   ]
  },
  {
   "cell_type": "markdown",
   "metadata": {},
   "source": [
    "Beberapa rekomendasi yang kami berikan untuk peningkatan kemampuan model untuk memprediksi harga apartment yaitu:\n",
    "- Menambahkan features yang memungkinkan berhubungan dengan SalesPrice seperti jumlah lantai apartment, jumlah kamar, sudah full furnished atau belum, jumlah apartment employees, kapasitas parkir kendaraan dan lainnya.\n",
    "- Menambahkan jumlah data apartment terbaru\n",
    "- Mempertimbangkan untuk menggunakan model machine learning seperti Recurrent Neural Network (RNN)\n",
    "- Mempertimbangkan faktor eksternal secara keseluruhan yang berdampak pada harga jual apartment, seperti tingkat suku bunga, indeks harga konsumen, kienrja produk domestik bruto (PDB) dan lain sebagainya."
   ]
  },
  {
   "cell_type": "markdown",
   "metadata": {},
   "source": [
    "# Save Model (Pickle)"
   ]
  },
  {
   "cell_type": "code",
   "execution_count": 60,
   "metadata": {},
   "outputs": [],
   "source": [
    "import pickle\n",
    "\n",
    "XGB_GS_Tuned.fit(X_train, y_train)\n",
    "\n",
    "pickle.dump(XGB_GS_Tuned, open('Daegu_Apartment_M3_XGB.sav', 'wb'))"
   ]
  }
 ],
 "metadata": {
  "kernelspec": {
   "display_name": "Python 3",
   "language": "python",
   "name": "python3"
  },
  "language_info": {
   "codemirror_mode": {
    "name": "ipython",
    "version": 3
   },
   "file_extension": ".py",
   "mimetype": "text/x-python",
   "name": "python",
   "nbconvert_exporter": "python",
   "pygments_lexer": "ipython3",
   "version": "3.10.9"
  },
  "orig_nbformat": 4
 },
 "nbformat": 4,
 "nbformat_minor": 2
}
